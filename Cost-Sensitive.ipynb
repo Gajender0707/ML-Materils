{
 "cells": [
  {
   "cell_type": "markdown",
   "metadata": {},
   "source": [
    "# Not All Classification Errors Are Equal"
   ]
  },
  {
   "cell_type": "raw",
   "metadata": {},
   "source": [
    "Classification is a predictive modeling problem that involves predicting the class label for\n",
    "an observation. There may be many class labels, so-called multiclass Classification problems,\n",
    "although the simplest and perhaps most common type of Classification problem has two classes\n",
    "and is referred to as binary Classification. Most machine learning algorithms designed for\n",
    "Classification assume that there is an equal number of examples for each observed class. This is\n",
    "not always the case in practice, and datasets that have a skewed class distribution are referred\n",
    "to as imbalanced Classification problems."
   ]
  },
  {
   "cell_type": "raw",
   "metadata": {},
   "source": [
    "In addition to assuming that the class distribution is balanced, most machine learning\n",
    "algorithms also assume that the prediction errors made by a classifier are the same, so-called\n",
    "miss-classifications. This is typically not the case for binary classification problems, especially\n",
    "those that have an imbalanced class distribution."
   ]
  },
  {
   "cell_type": "raw",
   "metadata": {},
   "source": [
    "For imbalanced classification problems, the examples from the majority class are referred to\n",
    "as the negative class and assigned the class label 0. Those examples from the minority class are\n",
    "referred to as the positive class and are assigned the class label 1. The reason for this negative vs. positive naming convention is because the examples from the majority class typically represent\n",
    "a normal or no-event case, whereas examples from the minority class represent the exceptional\n",
    "or event case."
   ]
  },
  {
   "cell_type": "raw",
   "metadata": {},
   "source": [
    "majority===>negative===>0=====>normal or no-event case"
   ]
  },
  {
   "cell_type": "raw",
   "metadata": {},
   "source": [
    "minority===>positive===>1===>exceptional or event case."
   ]
  },
  {
   "cell_type": "raw",
   "metadata": {},
   "source": [
    "Real-world imbalanced binary classification problems typically have a different interpretation\n",
    "for each of the classification errors that can be made. For example, classifying a negative case\n",
    "as a positive case is typically far less of a problem than classifying a positive case as a negative\n",
    "case. This makes sense if we consider the goal of a classifier on imbalanced binary classification\n",
    "problems is to detect the positive cases correctly and positive cases represent an exceptional or\n",
    "event that we are most interested in. We can make this clear with some examples."
   ]
  },
  {
   "cell_type": "markdown",
   "metadata": {},
   "source": [
    "# Bank Loan Problem"
   ]
  },
  {
   "cell_type": "raw",
   "metadata": {},
   "source": [
    "Consider a problem where a bank wants to determine whether to give a loan to a customer or\n",
    "not. Denying a loan to a good customer is not as bad as giving a loan to a bad customer that\n",
    "may never repay it."
   ]
  },
  {
   "cell_type": "markdown",
   "metadata": {},
   "source": [
    "# Cancer Diagnosis Problem"
   ]
  },
  {
   "cell_type": "raw",
   "metadata": {},
   "source": [
    "Consider a problem where a doctor wants to determine whether a patient has cancer or not. It\n",
    "is better to diagnose a healthy patient with cancer and follow-up with more medical tests than\n",
    "it is to discharge a patient that has cancer."
   ]
  },
  {
   "cell_type": "code",
   "execution_count": null,
   "metadata": {},
   "outputs": [],
   "source": []
  },
  {
   "cell_type": "markdown",
   "metadata": {},
   "source": [
    "# Cost-Sensitive Learning"
   ]
  },
  {
   "cell_type": "raw",
   "metadata": {},
   "source": [
    "There is a subfield of machine learning that is focused on learning and using models on data\n",
    "that have uneven penalties or costs when making predictions and more. This field is generally\n",
    "referred to as Cost-Sensitive Machine Learning, or more simply Cost-Sensitive Learning."
   ]
  },
  {
   "cell_type": "code",
   "execution_count": null,
   "metadata": {},
   "outputs": [],
   "source": []
  },
  {
   "cell_type": "markdown",
   "metadata": {},
   "source": [
    "# Cost-Sensitive Imbalanced Classification"
   ]
  },
  {
   "cell_type": "markdown",
   "metadata": {},
   "source": [
    "# Cost-Sensitive Logistic Regression"
   ]
  },
  {
   "cell_type": "raw",
   "metadata": {},
   "source": [
    "Logistic regression does not support imbalanced classification directly. Instead, the training\n",
    "algorithm used to fit the logistic regression model must be modified to take the skewed distribution\n",
    "into account. This can be achieved by specifying a class weighting configuration that is used to\n",
    "in uence the amount that logistic regression coeficients are updated during training."
   ]
  },
  {
   "cell_type": "raw",
   "metadata": {},
   "source": [
    "The weighting can penalize the model less for errors made on examples from the majority\n",
    "class and penalize the model more for errors made on examples from the minority class. The\n",
    "result is a version of logistic regression that performs better on imbalanced classification tasks,\n",
    "generally referred to as cost-sensitive or weighted logistic regression."
   ]
  },
  {
   "cell_type": "code",
   "execution_count": 1,
   "metadata": {},
   "outputs": [
    {
     "name": "stdout",
     "output_type": "stream",
     "text": [
      "Counter({0: 9900, 1: 100})\n"
     ]
    }
   ],
   "source": [
    "from collections import Counter\n",
    "from sklearn.datasets import make_classification\n",
    "from matplotlib import pyplot\n",
    "from numpy import where\n",
    "# define dataset\n",
    "X, y = make_classification(n_samples=10000, n_features=2, n_redundant=0,\n",
    "n_clusters_per_class=1, weights=[0.99], flip_y=0, random_state=2)\n",
    "# summarize class distribution\n",
    "counter = Counter(y)\n",
    "print(counter)"
   ]
  },
  {
   "cell_type": "code",
   "execution_count": 2,
   "metadata": {},
   "outputs": [
    {
     "data": {
      "image/png": "[encoded data removed]",
      "text/plain": [
       "<Figure size 432x288 with 1 Axes>"
      ]
     },
     "metadata": {
      "needs_background": "light"
     },
     "output_type": "display_data"
    }
   ],
   "source": [
    "for label, _ in counter.items():\n",
    "    row_ix = where(y == label)[0]\n",
    "    pyplot.scatter(X[row_ix, 0], X[row_ix, 1], label=str(label))\n",
    "pyplot.legend()\n",
    "pyplot.show()"
   ]
  },
  {
   "cell_type": "code",
   "execution_count": 8,
   "metadata": {},
   "outputs": [],
   "source": [
    "from numpy import mean\n",
    "from sklearn.datasets import make_classification\n",
    "from sklearn.model_selection import cross_val_score\n",
    "from sklearn.model_selection import RepeatedStratifiedKFold\n",
    "from sklearn.linear_model import LogisticRegression"
   ]
  },
  {
   "cell_type": "code",
   "execution_count": 9,
   "metadata": {},
   "outputs": [
    {
     "name": "stdout",
     "output_type": "stream",
     "text": [
      "Mean ROC AUC: 0.985\n"
     ]
    }
   ],
   "source": [
    "model = LogisticRegression(solver='lbfgs')\n",
    "# define evaluation procedure\n",
    "cv = RepeatedStratifiedKFold(n_splits=10, n_repeats=3, random_state=1)\n",
    "# evaluate model\n",
    "scores = cross_val_score(model, X, y, scoring='roc_auc', cv=cv, n_jobs=-1)\n",
    "# summarize performance\n",
    "print('Mean ROC AUC: %.3f' % mean(scores))"
   ]
  },
  {
   "cell_type": "code",
   "execution_count": 10,
   "metadata": {},
   "outputs": [],
   "source": [
    "model = LogisticRegression(solver='lbfgs')\n",
    "model.fit(X,y)\n",
    "pr=model.predict(X)"
   ]
  },
  {
   "cell_type": "code",
   "execution_count": 11,
   "metadata": {},
   "outputs": [
    {
     "name": "stdout",
     "output_type": "stream",
     "text": [
      "Confusion Matrix :\n",
      "[[9897    3]\n",
      " [  40   60]]\n"
     ]
    }
   ],
   "source": [
    "from sklearn.metrics import confusion_matrix \n",
    "results = confusion_matrix(y, pr) \n",
    "print ('Confusion Matrix :')\n",
    "print(results) \n"
   ]
  },
  {
   "cell_type": "code",
   "execution_count": null,
   "metadata": {},
   "outputs": [],
   "source": []
  },
  {
   "cell_type": "markdown",
   "metadata": {},
   "source": [
    "# Logistic Regression for Imbalanced Classification"
   ]
  },
  {
   "cell_type": "markdown",
   "metadata": {},
   "source": [
    "# Weighted Logistic Regression with Scikit-Learn"
   ]
  },
  {
   "cell_type": "raw",
   "metadata": {},
   "source": [
    "Logistic regression is an effective model for binary classification tasks, although by default, it\n",
    "is not effective at imbalanced classification. Logistic regression can be modified to be better\n",
    "suited for imbalanced classification. The coeficients of the logistic regression algorithm are fit\n",
    "using an optimization algorithm that minimizes the negative log likelihood (loss) for the model\n",
    "on the training dataset.\n",
    "min(y*ln(yp))+(1-y)ln(1-yp))"
   ]
  },
  {
   "cell_type": "raw",
   "metadata": {},
   "source": [
    "This involves the repeated use of the model to make predictions followed by an adaptation of\n",
    "the coeficients in a direction that reduces the loss of the model. The calculation of the loss for\n",
    "a given set of coeficients can be modified to take the class balance into account. By default, the\n",
    "errors for each class may be considered to have the same weighting, say 1.0. These weightings\n",
    "can be adjusted based on the importance of each class."
   ]
  },
  {
   "cell_type": "raw",
   "metadata": {},
   "source": [
    "min((wo)*(y*ln(yp))+(w1)*(1-y)ln(1-yp)))"
   ]
  },
  {
   "cell_type": "raw",
   "metadata": {},
   "source": [
    "The weighting is applied to the loss so that smaller weight values result in a smaller error\n",
    "value, and in turn, less update to the model coeficients. A larger weight value results in a larger\n",
    "error calculation, and in turn, more update to the model coeficients.\n",
    "\n",
    " Small Weight: Less importance, less update to the model coeficients.\n",
    " Large Weight: More importance, more update to the model coeficients.\n",
    "    \n",
    "As such, the modified version of logistic regression is referred to as Weighted Logistic\n",
    "Regression, Class-Weighted Logistic Regression or Cost-Sensitive Logistic Regression. The\n",
    "weightings are sometimes referred to as importance weightings. Although straightforward to\n",
    "implement, the challenge of weighted logistic regression is the choice of the weighting to use for\n",
    "each class."
   ]
  },
  {
   "cell_type": "code",
   "execution_count": 3,
   "metadata": {},
   "outputs": [],
   "source": [
    "from numpy import mean\n",
    "from sklearn.datasets import make_classification\n",
    "from sklearn.model_selection import cross_val_score\n",
    "from sklearn.model_selection import RepeatedStratifiedKFold\n",
    "from sklearn.linear_model import LogisticRegression"
   ]
  },
  {
   "cell_type": "code",
   "execution_count": 5,
   "metadata": {},
   "outputs": [],
   "source": [
    "weights = {0:1.0, 1:100}\n",
    "model = LogisticRegression(solver='lbfgs', class_weight=weights)"
   ]
  },
  {
   "cell_type": "code",
   "execution_count": 6,
   "metadata": {},
   "outputs": [
    {
     "name": "stdout",
     "output_type": "stream",
     "text": [
      "Mean ROC AUC: 0.989\n"
     ]
    }
   ],
   "source": [
    "cv = RepeatedStratifiedKFold(n_splits=10, n_repeats=3, random_state=1)\n",
    "# evaluate model\n",
    "scores = cross_val_score(model, X, y, scoring='roc_auc', cv=cv, n_jobs=-1)\n",
    "# summarize performance\n",
    "print('Mean ROC AUC: %.3f' % mean(scores))"
   ]
  },
  {
   "cell_type": "code",
   "execution_count": 7,
   "metadata": {},
   "outputs": [],
   "source": [
    "weights = {0:0.01, 1:1}\n",
    "model = LogisticRegression(solver='lbfgs', class_weight=weights)\n",
    "model.fit(X,y)\n",
    "pr=model.predict(X)"
   ]
  },
  {
   "cell_type": "code",
   "execution_count": 8,
   "metadata": {},
   "outputs": [
    {
     "name": "stdout",
     "output_type": "stream",
     "text": [
      "Confusion Matrix :\n",
      "[[9317  583]\n",
      " [   5   95]]\n"
     ]
    }
   ],
   "source": [
    "from sklearn.metrics import confusion_matrix \n",
    "results = confusion_matrix(y, pr) \n",
    "print ('Confusion Matrix :')\n",
    "print(results) \n"
   ]
  },
  {
   "cell_type": "raw",
   "metadata": {},
   "source": [
    "The scikit-learn library provides an implementation of the best practice heuristic for the\n",
    "class weighting. It is implemented via the compute class weight() function and is calculated"
   ]
  },
  {
   "cell_type": "code",
   "execution_count": 17,
   "metadata": {},
   "outputs": [
    {
     "name": "stdout",
     "output_type": "stream",
     "text": [
      "[ 0.50505051 50.        ]\n"
     ]
    },
    {
     "name": "stderr",
     "output_type": "stream",
     "text": [
      "C:\\Users\\Samsung\\Anaconda3\\lib\\site-packages\\sklearn\\utils\\validation.py:72: FutureWarning: Pass classes=[0, 1], y=[0 0 0 ... 0 0 0] as keyword args. From version 1.0 (renaming of 0.25) passing these as positional arguments will result in an error\n",
      "  \"will result in an error\", FutureWarning)\n"
     ]
    }
   ],
   "source": [
    "from sklearn.utils.class_weight import compute_class_weight\n",
    "from sklearn.datasets import make_classification\n",
    "weighting = compute_class_weight('balanced', [0,1], y)\n",
    "print(weighting)"
   ]
  },
  {
   "cell_type": "code",
   "execution_count": 18,
   "metadata": {},
   "outputs": [],
   "source": [
    "weights = {0:0.50505051, 1:50.0}\n",
    "model = LogisticRegression(solver='lbfgs', class_weight=weights)\n",
    "model.fit(X,y)\n",
    "pr=model.predict(X)"
   ]
  },
  {
   "cell_type": "code",
   "execution_count": 19,
   "metadata": {},
   "outputs": [
    {
     "name": "stdout",
     "output_type": "stream",
     "text": [
      "Confusion Matrix :\n",
      "[[9310  590]\n",
      " [   5   95]]\n"
     ]
    }
   ],
   "source": [
    "from sklearn.metrics import confusion_matrix \n",
    "results = confusion_matrix(y, pr) \n",
    "print ('Confusion Matrix :')\n",
    "print(results) \n"
   ]
  },
  {
   "cell_type": "raw",
   "metadata": {},
   "source": [
    "We can use the default class balance directly with the LogisticRegression class by setting\n",
    "the class weight argument to `balanced'."
   ]
  },
  {
   "cell_type": "code",
   "execution_count": 20,
   "metadata": {},
   "outputs": [
    {
     "name": "stdout",
     "output_type": "stream",
     "text": [
      "Mean ROC AUC: 0.989\n"
     ]
    }
   ],
   "source": [
    "model = LogisticRegression(solver='lbfgs', class_weight='balanced')\n",
    "# define evaluation procedure\n",
    "cv = RepeatedStratifiedKFold(n_splits=10, n_repeats=3, random_state=1)\n",
    "# evaluate model\n",
    "scores = cross_val_score(model, X, y, scoring='roc_auc', cv=cv, n_jobs=-1)\n",
    "# summarize performance\n",
    "print('Mean ROC AUC: %.3f' % mean(scores))"
   ]
  },
  {
   "cell_type": "code",
   "execution_count": 21,
   "metadata": {},
   "outputs": [
    {
     "name": "stdout",
     "output_type": "stream",
     "text": [
      "Confusion Matrix :\n",
      "[[9310  590]\n",
      " [   5   95]]\n"
     ]
    }
   ],
   "source": [
    "model = LogisticRegression(solver='lbfgs', class_weight='balanced')\n",
    "model.fit(X,y)\n",
    "pr=model.predict(X)\n",
    "from sklearn.metrics import confusion_matrix \n",
    "results = confusion_matrix(y, pr) \n",
    "print ('Confusion Matrix :')\n",
    "print(results) "
   ]
  },
  {
   "cell_type": "code",
   "execution_count": null,
   "metadata": {},
   "outputs": [],
   "source": []
  },
  {
   "cell_type": "markdown",
   "metadata": {},
   "source": [
    "# Grid Search Weighted Logistic Regression"
   ]
  },
  {
   "cell_type": "raw",
   "metadata": {},
   "source": [
    "Using a class weighting that is the inverse ratio of the training data is just a heuristic. It is\n",
    "possible that better performance can be achieved with a different class weighting, and this too\n",
    "will depend on the choice of performance metric used to evaluate the model. In this section, we\n",
    "will grid search a range of different class weightings for weighted logistic regression and discover\n",
    "which results in the best ROC AUC score."
   ]
  },
  {
   "cell_type": "code",
   "execution_count": 36,
   "metadata": {},
   "outputs": [],
   "source": [
    "from numpy import mean\n",
    "from sklearn.datasets import make_classification\n",
    "from sklearn.model_selection import GridSearchCV\n",
    "from sklearn.model_selection import RepeatedStratifiedKFold\n",
    "from sklearn.linear_model import LogisticRegression\n",
    "# generate dataset\n",
    "X, y = make_classification(n_samples=10000, n_features=2, n_redundant=0,\n",
    "n_clusters_per_class=1, weights=[0.99], flip_y=0, random_state=2)"
   ]
  },
  {
   "cell_type": "code",
   "execution_count": 37,
   "metadata": {},
   "outputs": [],
   "source": [
    "model = LogisticRegression(solver='lbfgs')\n",
    "# define grid\n",
    "balance = [{0:100,1:1}, {0:10,1:1}, {0:1,1:1}, {0:1,1:10}, {0:1,1:100}]\n",
    "param_grid = dict(class_weight=balance)\n",
    "# define evaluation procedure\n",
    "cv = RepeatedStratifiedKFold(n_splits=10, n_repeats=3, random_state=1)"
   ]
  },
  {
   "cell_type": "code",
   "execution_count": 38,
   "metadata": {},
   "outputs": [],
   "source": [
    "grid = GridSearchCV(estimator=model, param_grid=param_grid, n_jobs=-1, cv=cv,\n",
    "scoring='roc_auc')"
   ]
  },
  {
   "cell_type": "code",
   "execution_count": 39,
   "metadata": {},
   "outputs": [],
   "source": [
    "grid_result = grid.fit(X, y)"
   ]
  },
  {
   "cell_type": "code",
   "execution_count": 40,
   "metadata": {},
   "outputs": [
    {
     "name": "stdout",
     "output_type": "stream",
     "text": [
      "Best: 0.988943 using {'class_weight': {0: 1, 1: 100}}\n",
      "0.982148 (0.017020) with: {'class_weight': {0: 100, 1: 1}}\n",
      "0.983465 (0.015555) with: {'class_weight': {0: 10, 1: 1}}\n",
      "0.985242 (0.013456) with: {'class_weight': {0: 1, 1: 1}}\n",
      "0.987973 (0.009846) with: {'class_weight': {0: 1, 1: 10}}\n",
      "0.988943 (0.006354) with: {'class_weight': {0: 1, 1: 100}}\n"
     ]
    }
   ],
   "source": [
    "print('Best: %f using %s' % (grid_result.best_score_, grid_result.best_params_))\n",
    "# report all configurations\n",
    "means = grid_result.cv_results_['mean_test_score']\n",
    "stds = grid_result.cv_results_['std_test_score']\n",
    "params = grid_result.cv_results_['params']\n",
    "for mean, stdev, param in zip(means, stds, params):\n",
    "    print('%f (%f) with: %r' % (mean, stdev, param))"
   ]
  },
  {
   "cell_type": "code",
   "execution_count": 111,
   "metadata": {},
   "outputs": [],
   "source": [
    "weights = {0:.10, 1:200.0}\n",
    "model = LogisticRegression(solver='lbfgs', class_weight=weights)\n",
    "model.fit(X,y)\n",
    "pr=model.predict(X)"
   ]
  },
  {
   "cell_type": "code",
   "execution_count": 112,
   "metadata": {},
   "outputs": [
    {
     "name": "stdout",
     "output_type": "stream",
     "text": [
      "Confusion Matrix :\n",
      "[[9310  590]\n",
      " [   5   95]]\n"
     ]
    }
   ],
   "source": [
    "model = LogisticRegression(solver='lbfgs', class_weight='balanced')\n",
    "model.fit(X,y)\n",
    "pr=model.predict(X)\n",
    "from sklearn.metrics import confusion_matrix \n",
    "results = confusion_matrix(y, pr) \n",
    "print ('Confusion Matrix :')\n",
    "print(results) "
   ]
  },
  {
   "cell_type": "code",
   "execution_count": null,
   "metadata": {},
   "outputs": [],
   "source": []
  },
  {
   "cell_type": "markdown",
   "metadata": {},
   "source": [
    "# Cost-Sensitive Decision Trees"
   ]
  },
  {
   "cell_type": "raw",
   "metadata": {},
   "source": [
    "The decision tree algorithm is effective for balanced classification, although it does not perform\n",
    "well on imbalanced datasets. The split points of the tree are chosen to best separate examples\n",
    "into two groups with minimum mixing. When both groups are dominated by examples from\n",
    "one class, the criterion used to select a split point will see good separation, when in fact, the\n",
    "examples from the minority class are being ignored."
   ]
  },
  {
   "cell_type": "raw",
   "metadata": {},
   "source": [
    "This problem can be overcome by modifying the criterion used to evaluate split points to\n",
    "take the importance of each class into account, referred to generally as the weighted split-point\n",
    "or weighted decision tree."
   ]
  },
  {
   "cell_type": "code",
   "execution_count": 113,
   "metadata": {},
   "outputs": [],
   "source": [
    "from collections import Counter\n",
    "from sklearn.datasets import make_classification\n",
    "from matplotlib import pyplot\n",
    "from numpy import where"
   ]
  },
  {
   "cell_type": "code",
   "execution_count": 114,
   "metadata": {},
   "outputs": [
    {
     "name": "stdout",
     "output_type": "stream",
     "text": [
      "Counter({0: 9900, 1: 100})\n"
     ]
    }
   ],
   "source": [
    "X, y = make_classification(n_samples=10000, n_features=2, n_redundant=0,\n",
    "n_clusters_per_class=1, weights=[0.99], flip_y=0, random_state=3)\n",
    "# summarize class distribution\n",
    "counter = Counter(y)\n",
    "print(counter)"
   ]
  },
  {
   "cell_type": "code",
   "execution_count": 115,
   "metadata": {},
   "outputs": [
    {
     "data": {
      "image/png": "[encoded data removed]",
      "text/plain": [
       "<Figure size 432x288 with 1 Axes>"
      ]
     },
     "metadata": {
      "needs_background": "light"
     },
     "output_type": "display_data"
    }
   ],
   "source": [
    "for label, _ in counter.items():\n",
    "    row_ix = where(y == label)[0]\n",
    "    pyplot.scatter(X[row_ix, 0], X[row_ix, 1], label=str(label))\n",
    "pyplot.legend()\n",
    "pyplot.show()"
   ]
  },
  {
   "cell_type": "code",
   "execution_count": 116,
   "metadata": {},
   "outputs": [],
   "source": [
    "from numpy import mean\n",
    "from sklearn.datasets import make_classification\n",
    "from sklearn.model_selection import cross_val_score\n",
    "from sklearn.model_selection import RepeatedStratifiedKFold\n",
    "from sklearn.tree import DecisionTreeClassifier"
   ]
  },
  {
   "cell_type": "code",
   "execution_count": 117,
   "metadata": {},
   "outputs": [],
   "source": [
    "model = DecisionTreeClassifier()"
   ]
  },
  {
   "cell_type": "code",
   "execution_count": 118,
   "metadata": {},
   "outputs": [
    {
     "name": "stdout",
     "output_type": "stream",
     "text": [
      "Mean ROC AUC: 0.739\n"
     ]
    }
   ],
   "source": [
    "cv = RepeatedStratifiedKFold(n_splits=10, n_repeats=3, random_state=1)\n",
    "# evaluate model\n",
    "scores = cross_val_score(model, X, y, scoring='roc_auc', cv=cv, n_jobs=-1)\n",
    "# summarize performance\n",
    "print('Mean ROC AUC: %.3f' % mean(scores))"
   ]
  },
  {
   "cell_type": "code",
   "execution_count": 120,
   "metadata": {},
   "outputs": [
    {
     "name": "stdout",
     "output_type": "stream",
     "text": [
      "Confusion Matrix :\n",
      "[[3279   13]\n",
      " [  21   21]]\n"
     ]
    }
   ],
   "source": [
    "model = DecisionTreeClassifier()\n",
    "x_train, x_test, y_train, y_test = train_test_split(X, y, test_size = 1/3, random_state = 0)\n",
    "model.fit(x_train,y_train)\n",
    "pr=model.predict(x_test)\n",
    "from sklearn.metrics import confusion_matrix \n",
    "results = confusion_matrix(y_test, pr) \n",
    "print ('Confusion Matrix :')\n",
    "print(results) "
   ]
  },
  {
   "cell_type": "code",
   "execution_count": null,
   "metadata": {},
   "outputs": [],
   "source": []
  },
  {
   "cell_type": "markdown",
   "metadata": {},
   "source": [
    "# Decision Trees for Imbalanced Classification"
   ]
  },
  {
   "cell_type": "raw",
   "metadata": {},
   "source": [
    "The decision tree algorithm is also known as Classification and Regression Trees (CART) and\n",
    "involves growing a tree to classify examples from the training dataset. The tree can be thought\n",
    "to divide the training dataset, where examples progress down the decision points of the tree to\n",
    "arrive in the leaves of the tree and are assigned a class label.\n",
    "The tree is constructed by splitting the training dataset using values for variables in the\n",
    "dataset. At each point, the split in the data that results in the purest (least mixed) groups of\n",
    "examples is chosen in a greedy manner. Here, purity means a clean separation of examples into\n",
    "groups where a group of examples of all 0 or all 1 class is the purest, and a 50-50 mixture of\n",
    "both classes is the least pure. Purity is most commonly calculated using Gini impurity, although\n",
    "it can also be calculated using entropy.\n",
    "The calculation of a purity measure involves calculating the probability of an example of a\n",
    "given class being misclassified by a split. Calculating these probabilities involves summing the\n",
    "number of examples in each class within each group. The splitting criterion can be updated to\n",
    "not only take the purity of the split into account, but also be weighted by the importance of\n",
    "each class."
   ]
  },
  {
   "cell_type": "raw",
   "metadata": {},
   "source": [
    "Our intuition for cost-sensitive tree induction is to modify the weight of an instance\n",
    "proportional to the cost of misclassifying the class to which the instance belonged"
   ]
  },
  {
   "cell_type": "raw",
   "metadata": {},
   "source": [
    "This can be achieved by replacing the count of examples in each group by a weighted sum,\n",
    "where the coeficient is provided to weight the sum. Larger weight is assigned to the class with\n",
    "more importance, and a smaller weight is assigned to a class with less importance.\n",
    " Small Weight: Less importance, lower impact on node purity.\n",
    " Large Weight: More importance, higher impact on node purity."
   ]
  },
  {
   "cell_type": "raw",
   "metadata": {},
   "source": [
    "# A small weight can be assigned to the majority class, which has the effect of improving\n",
    "(lowering) the purity score of a node that may otherwise look less well sorted. In turn, this\n",
    "may allow more examples from the majority class to be classified for the minority class, better\n",
    "accommodating those examples in the minority class."
   ]
  },
  {
   "cell_type": "raw",
   "metadata": {},
   "source": [
    "As such, this modification of the decision tree algorithm is referred to as a weighted decision\n",
    "tree, a class-weighted decision tree, or a cost-sensitive decision tree. Modification of the split\n",
    "point calculation is the most common, although there has been a lot of research into a range of\n",
    "other modifications of the decision tree construction algorithm to better accommodate a class\n",
    "imbalance."
   ]
  },
  {
   "cell_type": "markdown",
   "metadata": {},
   "source": [
    "# Weighted Decision Tree With Scikit-Learn"
   ]
  },
  {
   "cell_type": "code",
   "execution_count": 121,
   "metadata": {},
   "outputs": [
    {
     "name": "stdout",
     "output_type": "stream",
     "text": [
      "Mean ROC AUC: 0.751\n"
     ]
    }
   ],
   "source": [
    "model = DecisionTreeClassifier(class_weight='balanced')\n",
    "# define evaluation procedure\n",
    "cv = RepeatedStratifiedKFold(n_splits=10, n_repeats=3, random_state=1)\n",
    "# evaluate model\n",
    "scores = cross_val_score(model, X, y, scoring='roc_auc', cv=cv, n_jobs=-1)\n",
    "# summarize performance\n",
    "print('Mean ROC AUC: %.3f' % mean(scores))"
   ]
  },
  {
   "cell_type": "code",
   "execution_count": 126,
   "metadata": {},
   "outputs": [
    {
     "name": "stdout",
     "output_type": "stream",
     "text": [
      "Confusion Matrix :\n",
      "[[3274   18]\n",
      " [  21   21]]\n"
     ]
    }
   ],
   "source": [
    "weights = {0:.1, 1:10.0}\n",
    "model = DecisionTreeClassifier(class_weight=weights)\n",
    "x_train, x_test, y_train, y_test = train_test_split(X, y, test_size = 1/3, random_state = 0)\n",
    "model.fit(x_train,y_train)\n",
    "pr=model.predict(x_test)\n",
    "from sklearn.metrics import confusion_matrix \n",
    "results = confusion_matrix(y_test, pr) \n",
    "print ('Confusion Matrix :')\n",
    "print(results) "
   ]
  },
  {
   "cell_type": "code",
   "execution_count": null,
   "metadata": {},
   "outputs": [],
   "source": []
  },
  {
   "cell_type": "markdown",
   "metadata": {},
   "source": [
    "# Grid Search Weighted Decision Tree"
   ]
  },
  {
   "cell_type": "code",
   "execution_count": 8,
   "metadata": {},
   "outputs": [],
   "source": [
    "from numpy import mean\n",
    "from sklearn.datasets import make_classification\n",
    "from sklearn.model_selection import GridSearchCV\n",
    "from sklearn.model_selection import RepeatedStratifiedKFold\n",
    "from sklearn.tree import DecisionTreeClassifier"
   ]
  },
  {
   "cell_type": "code",
   "execution_count": 1,
   "metadata": {},
   "outputs": [],
   "source": [
    "balance = [{0:100,1:1}, {0:10,1:1}, {0:1,1:1}, {0:1,1:10}, {0:1,1:100}]"
   ]
  },
  {
   "cell_type": "code",
   "execution_count": 2,
   "metadata": {},
   "outputs": [],
   "source": [
    "param_grid = dict(class_weight=balance)"
   ]
  },
  {
   "cell_type": "code",
   "execution_count": 3,
   "metadata": {},
   "outputs": [
    {
     "data": {
      "text/plain": [
       "{'class_weight': [{0: 100, 1: 1},\n",
       "  {0: 10, 1: 1},\n",
       "  {0: 1, 1: 1},\n",
       "  {0: 1, 1: 10},\n",
       "  {0: 1, 1: 100}]}"
      ]
     },
     "execution_count": 3,
     "metadata": {},
     "output_type": "execute_result"
    }
   ],
   "source": [
    "param_grid"
   ]
  },
  {
   "cell_type": "code",
   "execution_count": 5,
   "metadata": {},
   "outputs": [
    {
     "data": {
      "text/plain": [
       "[{0: 100, 1: 1}, {0: 10, 1: 1}, {0: 1, 1: 1}, {0: 1, 1: 10}, {0: 1, 1: 100}]"
      ]
     },
     "execution_count": 5,
     "metadata": {},
     "output_type": "execute_result"
    }
   ],
   "source": [
    "param_grid['class_weight']"
   ]
  },
  {
   "cell_type": "code",
   "execution_count": null,
   "metadata": {},
   "outputs": [],
   "source": []
  },
  {
   "cell_type": "code",
   "execution_count": 10,
   "metadata": {},
   "outputs": [],
   "source": [
    "model = DecisionTreeClassifier()"
   ]
  },
  {
   "cell_type": "code",
   "execution_count": 11,
   "metadata": {},
   "outputs": [],
   "source": [
    "\n",
    "# define evaluation procedure\n",
    "cv = RepeatedStratifiedKFold(n_splits=10, n_repeats=3, random_state=1)"
   ]
  },
  {
   "cell_type": "code",
   "execution_count": 12,
   "metadata": {},
   "outputs": [],
   "source": [
    "grid = GridSearchCV(estimator=model, param_grid=param_grid, n_jobs=-1, cv=cv,\n",
    "scoring='roc_auc')"
   ]
  },
  {
   "cell_type": "code",
   "execution_count": 13,
   "metadata": {},
   "outputs": [],
   "source": [
    "grid_result = grid.fit(X, y)"
   ]
  },
  {
   "cell_type": "code",
   "execution_count": 14,
   "metadata": {},
   "outputs": [
    {
     "name": "stdout",
     "output_type": "stream",
     "text": [
      "Best: 0.755791 using {'class_weight': {0: 1, 1: 10}}\n"
     ]
    }
   ],
   "source": [
    "print('Best: %f using %s' % (grid_result.best_score_, grid_result.best_params_))"
   ]
  },
  {
   "cell_type": "code",
   "execution_count": 16,
   "metadata": {},
   "outputs": [
    {
     "name": "stdout",
     "output_type": "stream",
     "text": [
      "0.738855 (0.075224) with: {'class_weight': {0: 100, 1: 1}}\n",
      "0.735623 (0.071431) with: {'class_weight': {0: 10, 1: 1}}\n",
      "0.734074 (0.065675) with: {'class_weight': {0: 1, 1: 1}}\n",
      "0.755791 (0.075199) with: {'class_weight': {0: 1, 1: 10}}\n",
      "0.749360 (0.074670) with: {'class_weight': {0: 1, 1: 100}}\n"
     ]
    }
   ],
   "source": [
    "means = grid_result.cv_results_['mean_test_score']\n",
    "stds = grid_result.cv_results_['std_test_score']\n",
    "params = grid_result.cv_results_['params']\n",
    "for mean, stdev, param in zip(means, stds, params):\n",
    "    print('%f (%f) with: %r' % (mean, stdev, param))"
   ]
  },
  {
   "cell_type": "code",
   "execution_count": null,
   "metadata": {},
   "outputs": [],
   "source": []
  },
  {
   "cell_type": "code",
   "execution_count": null,
   "metadata": {},
   "outputs": [],
   "source": []
  },
  {
   "cell_type": "markdown",
   "metadata": {},
   "source": [
    "# Cost-Sensitive Support Vector Machines"
   ]
  },
  {
   "cell_type": "raw",
   "metadata": {},
   "source": [
    "The Support Vector Machine algorithm is effective for balanced classification, although it does\n",
    "not perform well on imbalanced datasets. The SVM algorithm ends a hyperplane decision\n",
    "boundary that best splits the examples into two classes. The split is made soft through the\n",
    "use of a margin that allows some points to be misclassified. By default, this margin favors the\n",
    "majority class on imbalanced datasets, although it can be updated to take the importance of\n",
    "each class into account and dramatically improve the performance of the algorithm on datasets\n",
    "with skewed class distributions."
   ]
  },
  {
   "cell_type": "code",
   "execution_count": 127,
   "metadata": {},
   "outputs": [
    {
     "name": "stdout",
     "output_type": "stream",
     "text": [
      "Counter({0: 9900, 1: 100})\n"
     ]
    }
   ],
   "source": [
    "from collections import Counter\n",
    "from sklearn.datasets import make_classification\n",
    "from matplotlib import pyplot\n",
    "from numpy import where\n",
    "# define dataset\n",
    "X, y = make_classification(n_samples=10000, n_features=2, n_redundant=0,\n",
    "n_clusters_per_class=1, weights=[0.99], flip_y=0, random_state=4)\n",
    "# summarize class distribution\n",
    "counter = Counter(y)\n",
    "print(counter)"
   ]
  },
  {
   "cell_type": "code",
   "execution_count": 128,
   "metadata": {},
   "outputs": [
    {
     "data": {
      "image/png": "[encoded data removed]",
      "text/plain": [
       "<Figure size 432x288 with 1 Axes>"
      ]
     },
     "metadata": {
      "needs_background": "light"
     },
     "output_type": "display_data"
    }
   ],
   "source": [
    "for label, _ in counter.items():\n",
    "    row_ix = where(y == label)[0]\n",
    "    pyplot.scatter(X[row_ix, 0], X[row_ix, 1], label=str(label))\n",
    "pyplot.legend()\n",
    "pyplot.show()"
   ]
  },
  {
   "cell_type": "code",
   "execution_count": 129,
   "metadata": {},
   "outputs": [],
   "source": [
    "from numpy import mean\n",
    "from sklearn.datasets import make_classification\n",
    "from sklearn.model_selection import cross_val_score\n",
    "from sklearn.model_selection import RepeatedStratifiedKFold\n",
    "from sklearn.svm import SVC"
   ]
  },
  {
   "cell_type": "code",
   "execution_count": 130,
   "metadata": {},
   "outputs": [
    {
     "name": "stdout",
     "output_type": "stream",
     "text": [
      "Mean ROC AUC: 0.808\n"
     ]
    }
   ],
   "source": [
    "model = SVC(gamma='scale')\n",
    "# define evaluation procedure\n",
    "cv = RepeatedStratifiedKFold(n_splits=10, n_repeats=3, random_state=1)\n",
    "# evaluate model\n",
    "scores = cross_val_score(model, X, y, scoring='roc_auc', cv=cv, n_jobs=-1)\n",
    "# summarize performance\n",
    "print('Mean ROC AUC: %.3f' % mean(scores))"
   ]
  },
  {
   "cell_type": "code",
   "execution_count": null,
   "metadata": {},
   "outputs": [],
   "source": []
  },
  {
   "cell_type": "markdown",
   "metadata": {},
   "source": [
    "# SVM for Imbalanced Classification"
   ]
  },
  {
   "cell_type": "code",
   "execution_count": 131,
   "metadata": {},
   "outputs": [
    {
     "name": "stdout",
     "output_type": "stream",
     "text": [
      "Mean ROC AUC: 0.967\n"
     ]
    }
   ],
   "source": [
    "model = SVC(gamma='scale', class_weight='balanced')\n",
    "# define evaluation procedure\n",
    "cv = RepeatedStratifiedKFold(n_splits=10, n_repeats=3, random_state=1)\n",
    "# evaluate model\n",
    "scores = cross_val_score(model, X, y, scoring='roc_auc', cv=cv, n_jobs=-1)\n",
    "# summarize performance\n",
    "print('Mean ROC AUC: %.3f' % mean(scores))"
   ]
  },
  {
   "cell_type": "markdown",
   "metadata": {},
   "source": [
    "# Grid Search Weighted SVM"
   ]
  },
  {
   "cell_type": "code",
   "execution_count": 132,
   "metadata": {},
   "outputs": [],
   "source": [
    "model = SVC(gamma='scale')\n",
    "# define grid\n",
    "balance = [{0:100,1:1}, {0:10,1:1}, {0:1,1:1}, {0:1,1:10}, {0:1,1:100}]"
   ]
  },
  {
   "cell_type": "code",
   "execution_count": 133,
   "metadata": {},
   "outputs": [],
   "source": [
    "param_grid = dict(class_weight=balance)\n",
    "# define evaluation procedure\n",
    "cv = RepeatedStratifiedKFold(n_splits=10, n_repeats=3, random_state=1)"
   ]
  },
  {
   "cell_type": "code",
   "execution_count": 134,
   "metadata": {},
   "outputs": [],
   "source": [
    "grid = GridSearchCV(estimator=model, param_grid=param_grid, n_jobs=-1, cv=cv,\n",
    "scoring='roc_auc')\n",
    "# execute the grid search\n",
    "grid_result = grid.fit(X, y)"
   ]
  },
  {
   "cell_type": "code",
   "execution_count": 135,
   "metadata": {},
   "outputs": [
    {
     "name": "stdout",
     "output_type": "stream",
     "text": [
      "Best: 0.967747 using {'class_weight': {0: 1, 1: 100}}\n"
     ]
    }
   ],
   "source": [
    "print('Best: %f using %s' % (grid_result.best_score_, grid_result.best_params_))"
   ]
  },
  {
   "cell_type": "code",
   "execution_count": 136,
   "metadata": {},
   "outputs": [
    {
     "name": "stdout",
     "output_type": "stream",
     "text": [
      "0.742960 (0.149857) with: {'class_weight': {0: 100, 1: 1}}\n",
      "0.748404 (0.149873) with: {'class_weight': {0: 10, 1: 1}}\n",
      "0.807960 (0.126354) with: {'class_weight': {0: 1, 1: 1}}\n",
      "0.934401 (0.065202) with: {'class_weight': {0: 1, 1: 10}}\n",
      "0.967747 (0.038637) with: {'class_weight': {0: 1, 1: 100}}\n"
     ]
    }
   ],
   "source": [
    "means = grid_result.cv_results_['mean_test_score']\n",
    "stds = grid_result.cv_results_['std_test_score']\n",
    "params = grid_result.cv_results_['params']\n",
    "for mean, stdev, param in zip(means, stds, params):\n",
    "    print('%f (%f) with: %r' % (mean, stdev, param))"
   ]
  },
  {
   "cell_type": "code",
   "execution_count": 137,
   "metadata": {},
   "outputs": [
    {
     "name": "stdout",
     "output_type": "stream",
     "text": [
      "Confusion Matrix :\n",
      "[[3099  197]\n",
      " [   4   34]]\n"
     ]
    }
   ],
   "source": [
    "weights = {0:.1, 1:100.0}\n",
    "model = SVC(gamma='scale', class_weight='balanced')\n",
    "x_train, x_test, y_train, y_test = train_test_split(X, y, test_size = 1/3, random_state = 0)\n",
    "model.fit(x_train,y_train)\n",
    "pr=model.predict(x_test)\n",
    "from sklearn.metrics import confusion_matrix \n",
    "results = confusion_matrix(y_test, pr) \n",
    "print ('Confusion Matrix :')\n",
    "print(results) "
   ]
  },
  {
   "cell_type": "code",
   "execution_count": null,
   "metadata": {},
   "outputs": [],
   "source": []
  },
  {
   "cell_type": "markdown",
   "metadata": {},
   "source": [
    "# Advanced Algorithms"
   ]
  },
  {
   "cell_type": "code",
   "execution_count": null,
   "metadata": {},
   "outputs": [],
   "source": []
  },
  {
   "cell_type": "code",
   "execution_count": 138,
   "metadata": {},
   "outputs": [],
   "source": [
    "from sklearn.datasets import make_classification\n",
    "from sklearn.linear_model import LogisticRegression\n",
    "from sklearn.model_selection import train_test_split\n",
    "from sklearn.metrics import roc_curve\n",
    "from matplotlib import pyplot"
   ]
  },
  {
   "cell_type": "code",
   "execution_count": 139,
   "metadata": {},
   "outputs": [],
   "source": [
    "X, y = make_classification(n_samples=10000, n_features=2, n_redundant=0,\n",
    "n_clusters_per_class=1, weights=[0.99], flip_y=0, random_state=4)\n",
    "# split into train/test sets\n",
    "trainX, testX, trainy, testy = train_test_split(X, y, test_size=0.5, random_state=2,\n",
    "stratify=y)"
   ]
  },
  {
   "cell_type": "code",
   "execution_count": 140,
   "metadata": {},
   "outputs": [
    {
     "data": {
      "text/plain": [
       "LogisticRegression()"
      ]
     },
     "execution_count": 140,
     "metadata": {},
     "output_type": "execute_result"
    }
   ],
   "source": [
    "model = LogisticRegression(solver='lbfgs')\n",
    "model.fit(trainX, trainy)"
   ]
  },
  {
   "cell_type": "code",
   "execution_count": 141,
   "metadata": {},
   "outputs": [],
   "source": [
    "yhat = model.predict_proba(testX)"
   ]
  },
  {
   "cell_type": "code",
   "execution_count": 142,
   "metadata": {},
   "outputs": [],
   "source": [
    "yhat = yhat[:, 1]"
   ]
  },
  {
   "cell_type": "code",
   "execution_count": 143,
   "metadata": {},
   "outputs": [],
   "source": [
    "fpr, tpr, thresholds = roc_curve(testy, yhat)"
   ]
  },
  {
   "cell_type": "code",
   "execution_count": 145,
   "metadata": {},
   "outputs": [
    {
     "data": {
      "text/plain": [
       "array([1.99999835e+00, 9.99998347e-01, 4.96107783e-01, 4.64133790e-01,\n",
       "       4.37378298e-01, 4.10290652e-01, 3.60605429e-01, 3.18080562e-01,\n",
       "       2.66733994e-01, 2.58835081e-01, 2.56035560e-01, 2.39921159e-01,\n",
       "       2.22567047e-01, 1.43505643e-01, 1.41327098e-01, 1.09726224e-01,\n",
       "       1.07837317e-01, 9.20957096e-02, 9.02480016e-02, 7.34506191e-02,\n",
       "       6.96974524e-02, 6.27586051e-02, 6.03914597e-02, 4.93544524e-02,\n",
       "       4.92428780e-02, 4.17944224e-02, 4.17364870e-02, 2.99406545e-02,\n",
       "       2.98037729e-02, 1.93442867e-02, 1.93349888e-02, 1.86417850e-02,\n",
       "       1.86356233e-02, 1.61540845e-02, 1.61528512e-02, 8.85173160e-03,\n",
       "       8.83828307e-03, 4.91894272e-03, 4.86537595e-03, 2.76888081e-03,\n",
       "       2.76565429e-03, 2.22207193e-03, 2.21906816e-03, 7.26905980e-07])"
      ]
     },
     "execution_count": 145,
     "metadata": {},
     "output_type": "execute_result"
    }
   ],
   "source": [
    "thresholds"
   ]
  },
  {
   "cell_type": "code",
   "execution_count": 144,
   "metadata": {},
   "outputs": [
    {
     "data": {
      "image/png": "[encoded data removed]",
      "text/plain": [
       "<Figure size 432x288 with 1 Axes>"
      ]
     },
     "metadata": {
      "needs_background": "light"
     },
     "output_type": "display_data"
    }
   ],
   "source": [
    "pyplot.plot([0,1], [0,1], linestyle='--', label='No Skill')\n",
    "pyplot.plot(fpr, tpr, marker='.', label='Logistic')\n",
    "# axis labels\n",
    "pyplot.xlabel('False Positive Rate')\n",
    "pyplot.ylabel('True Positive Rate')\n",
    "pyplot.legend()\n",
    "# show the plot\n",
    "pyplot.show()"
   ]
  },
  {
   "cell_type": "raw",
   "metadata": {},
   "source": [
    "There are many ways we could locate the threshold with the optimal balance between false\n",
    "positive and true positive rates. Firstly, the true positive rate is called the Sensitivity. One\n",
    "minus the false-positive rate is called the Specificity. The Geometric Mean or G-mean is a metric\n",
    "for imbalanced classification that, if optimized, will seek a balance between the sensitivity and\n",
    "the specificity."
   ]
  },
  {
   "cell_type": "raw",
   "metadata": {},
   "source": [
    "G-mean =(Sensitivity * Specificity)**.5"
   ]
  },
  {
   "cell_type": "raw",
   "metadata": {},
   "source": [
    "One approach would be to test the model with each threshold returned from the call\n",
    "roc auc score() and select the threshold with the largest G-mean value. Given that we\n",
    "have already calculated the Sensitivity (TPR) and the complement to the Specificity when we\n",
    "calculated the ROC Curve, we can calculate the G-mean for each threshold directly."
   ]
  },
  {
   "cell_type": "code",
   "execution_count": 146,
   "metadata": {},
   "outputs": [],
   "source": [
    "import numpy as np\n",
    "gmeans = np.sqrt(tpr * (1-fpr))"
   ]
  },
  {
   "cell_type": "code",
   "execution_count": 147,
   "metadata": {},
   "outputs": [
    {
     "data": {
      "text/plain": [
       "array([0.        , 0.14142136, 0.74833148, 0.74825588, 0.76150038,\n",
       "       0.76134649, 0.78716214, 0.78700301, 0.81199343, 0.81191133,\n",
       "       0.8241212 , 0.82387113, 0.83589908, 0.83513744, 0.84698395,\n",
       "       0.84612486, 0.8577961 , 0.85736029, 0.868869  , 0.86807345,\n",
       "       0.8794213 , 0.87870428, 0.88989842, 0.88826241, 0.89929714,\n",
       "       0.898099  , 0.90898545, 0.90552513, 0.91624177, 0.90728588,\n",
       "       0.91777509, 0.91641815, 0.92677348, 0.92323542, 0.93343722,\n",
       "       0.91035347, 0.92019541, 0.88966229, 0.89907697, 0.85666018,\n",
       "       0.86553773, 0.84855909, 0.85717412, 0.        ])"
      ]
     },
     "execution_count": 147,
     "metadata": {},
     "output_type": "execute_result"
    }
   ],
   "source": [
    "gmeans"
   ]
  },
  {
   "cell_type": "code",
   "execution_count": 148,
   "metadata": {},
   "outputs": [],
   "source": [
    "ix = np.argmax(gmeans)"
   ]
  },
  {
   "cell_type": "code",
   "execution_count": 149,
   "metadata": {},
   "outputs": [
    {
     "data": {
      "text/plain": [
       "34"
      ]
     },
     "execution_count": 149,
     "metadata": {},
     "output_type": "execute_result"
    }
   ],
   "source": [
    "ix"
   ]
  },
  {
   "cell_type": "code",
   "execution_count": 151,
   "metadata": {},
   "outputs": [
    {
     "name": "stdout",
     "output_type": "stream",
     "text": [
      "Best Threshold=0.016153, G-mean=0.933\n"
     ]
    }
   ],
   "source": [
    "print('Best Threshold=%f, G-mean=%.3f' % (thresholds[ix], gmeans[ix]))"
   ]
  },
  {
   "cell_type": "code",
   "execution_count": 152,
   "metadata": {},
   "outputs": [
    {
     "data": {
      "image/png": "[encoded data removed]",
      "text/plain": [
       "<Figure size 432x288 with 1 Axes>"
      ]
     },
     "metadata": {
      "needs_background": "light"
     },
     "output_type": "display_data"
    }
   ],
   "source": [
    "pyplot.plot([0,1], [0,1], linestyle='--', label='No Skill')\n",
    "pyplot.plot(fpr, tpr, marker='.', label='Logistic')\n",
    "pyplot.scatter(fpr[ix], tpr[ix], marker='o', color='black', label='Best')\n",
    "# axis labels\n",
    "pyplot.xlabel('False Positive Rate')\n",
    "pyplot.ylabel('True Positive Rate')\n",
    "pyplot.legend()\n",
    "# show the plot\n",
    "pyplot.show()"
   ]
  },
  {
   "cell_type": "code",
   "execution_count": null,
   "metadata": {},
   "outputs": [],
   "source": []
  },
  {
   "cell_type": "markdown",
   "metadata": {},
   "source": [
    "# Optimal Threshold for Precision-Recall Curve"
   ]
  },
  {
   "cell_type": "raw",
   "metadata": {},
   "source": [
    "Unlike the ROC Curve, a precision-recall curve focuses on the performance of a classiFIer on the\n",
    "positive (minority class) only. Precision is the ratio of the number of true positives divided by\n",
    "the sum of the true positives and false positives. It describes how good a model is at predicting the positive class. Recall is calculated as the ratio of the number of true positives divided by\n",
    "the sum of the true positives and the false negatives. Recall is the same as sensitivity."
   ]
  },
  {
   "cell_type": "raw",
   "metadata": {},
   "source": [
    "A precision-recall curve is calculated by creating crisp class labels for probability predictions\n",
    "across a set of thresholds and calculating the precision and recall for each threshold. A line plot\n",
    "is created for the thresholds in ascending order with recall on the x-axis and precision on the\n",
    "y-axis."
   ]
  },
  {
   "cell_type": "code",
   "execution_count": 153,
   "metadata": {},
   "outputs": [],
   "source": [
    "from sklearn.datasets import make_classification\n",
    "from sklearn.linear_model import LogisticRegression\n",
    "from sklearn.model_selection import train_test_split\n",
    "from sklearn.metrics import precision_recall_curve\n",
    "from matplotlib import pyplot"
   ]
  },
  {
   "cell_type": "code",
   "execution_count": 154,
   "metadata": {},
   "outputs": [],
   "source": [
    "X, y = make_classification(n_samples=10000, n_features=2, n_redundant=0,\n",
    "n_clusters_per_class=1, weights=[0.99], flip_y=0, random_state=4)\n",
    "# split into train/test sets\n",
    "trainX, testX, trainy, testy = train_test_split(X, y, test_size=0.5, random_state=2,\n",
    "stratify=y)"
   ]
  },
  {
   "cell_type": "code",
   "execution_count": 155,
   "metadata": {},
   "outputs": [
    {
     "data": {
      "text/plain": [
       "LogisticRegression()"
      ]
     },
     "execution_count": 155,
     "metadata": {},
     "output_type": "execute_result"
    }
   ],
   "source": [
    "model = LogisticRegression(solver='lbfgs')\n",
    "model.fit(trainX, trainy)"
   ]
  },
  {
   "cell_type": "code",
   "execution_count": 156,
   "metadata": {},
   "outputs": [],
   "source": [
    "yhat = model.predict_proba(testX)"
   ]
  },
  {
   "cell_type": "code",
   "execution_count": 157,
   "metadata": {},
   "outputs": [],
   "source": [
    "yhat = yhat[:, 1]"
   ]
  },
  {
   "cell_type": "code",
   "execution_count": 158,
   "metadata": {},
   "outputs": [],
   "source": [
    "precision, recall, thresholds = precision_recall_curve(testy, yhat)"
   ]
  },
  {
   "cell_type": "code",
   "execution_count": 159,
   "metadata": {},
   "outputs": [
    {
     "data": {
      "text/plain": [
       "array([0.00221907, 0.00222207, 0.00222486, ..., 0.99905196, 0.99996111,\n",
       "       0.99999835])"
      ]
     },
     "execution_count": 159,
     "metadata": {},
     "output_type": "execute_result"
    }
   ],
   "source": [
    "thresholds"
   ]
  },
  {
   "cell_type": "code",
   "execution_count": 160,
   "metadata": {},
   "outputs": [
    {
     "data": {
      "text/plain": [
       "array([0.03668379, 0.03597651, 0.03600294, ..., 1.        , 1.        ,\n",
       "       1.        ])"
      ]
     },
     "execution_count": 160,
     "metadata": {},
     "output_type": "execute_result"
    }
   ],
   "source": [
    "precision"
   ]
  },
  {
   "cell_type": "code",
   "execution_count": 161,
   "metadata": {},
   "outputs": [
    {
     "data": {
      "text/plain": [
       "array([1.  , 0.98, 0.98, ..., 0.04, 0.02, 0.  ])"
      ]
     },
     "execution_count": 161,
     "metadata": {},
     "output_type": "execute_result"
    }
   ],
   "source": [
    "recall"
   ]
  },
  {
   "cell_type": "code",
   "execution_count": 162,
   "metadata": {},
   "outputs": [
    {
     "data": {
      "image/png": "[encoded data removed]",
      "text/plain": [
       "<Figure size 432x288 with 1 Axes>"
      ]
     },
     "metadata": {
      "needs_background": "light"
     },
     "output_type": "display_data"
    }
   ],
   "source": [
    "no_skill = len(testy[testy==1]) / len(testy)\n",
    "pyplot.plot([0,1], [no_skill,no_skill], linestyle='--', label='No Skill')\n",
    "pyplot.plot(recall, precision, marker='.', label='Logistic')\n",
    "# axis labels\n",
    "pyplot.xlabel('Recall')\n",
    "pyplot.ylabel('Precision')\n",
    "pyplot.legend()\n",
    "# show the plot\n",
    "pyplot.show()"
   ]
  },
  {
   "cell_type": "raw",
   "metadata": {},
   "source": [
    "If we are interested in a threshold that results in the best balance of precision and recall,\n",
    "then this is the same as optimizing the F-measure that summarizes the harmonic mean of both\n",
    "measures."
   ]
  },
  {
   "cell_type": "markdown",
   "metadata": {},
   "source": [
    "F-measure =(2 * Precision * Recall)/(Precision + Recall)"
   ]
  },
  {
   "cell_type": "code",
   "execution_count": 163,
   "metadata": {},
   "outputs": [],
   "source": [
    "fscore = (2 * precision * recall) / (precision + recall)"
   ]
  },
  {
   "cell_type": "code",
   "execution_count": 165,
   "metadata": {},
   "outputs": [
    {
     "name": "stdout",
     "output_type": "stream",
     "text": [
      "position 1323\n",
      "Best Threshold=0.256036, F-measure=0.756\n"
     ]
    }
   ],
   "source": [
    "ix = np.argmax(fscore)\n",
    "print(\"position\",ix)\n",
    "print('Best Threshold=%f, F-measure=%.3f' % (thresholds[ix], fscore[ix]))"
   ]
  },
  {
   "cell_type": "code",
   "execution_count": 166,
   "metadata": {},
   "outputs": [
    {
     "data": {
      "text/plain": [
       "<matplotlib.legend.Legend at 0x163de2b0>"
      ]
     },
     "execution_count": 166,
     "metadata": {},
     "output_type": "execute_result"
    },
    {
     "data": {
      "image/png": "[encoded data removed]",
      "text/plain": [
       "<Figure size 432x288 with 1 Axes>"
      ]
     },
     "metadata": {
      "needs_background": "light"
     },
     "output_type": "display_data"
    }
   ],
   "source": [
    "no_skill = len(testy[testy==1]) / len(testy)\n",
    "pyplot.plot([0,1], [no_skill,no_skill], linestyle='--', label='No Skill')\n",
    "pyplot.plot(recall, precision, marker='.', label='Logistic')\n",
    "pyplot.scatter(recall[ix], precision[ix], marker='o', color='black', label='Best')\n",
    "# axis labels\n",
    "pyplot.xlabel('Recall')\n",
    "pyplot.ylabel('Precision')\n",
    "pyplot.legend()\n",
    "# show the plot"
   ]
  },
  {
   "cell_type": "code",
   "execution_count": null,
   "metadata": {},
   "outputs": [],
   "source": []
  },
  {
   "cell_type": "markdown",
   "metadata": {},
   "source": [
    "# Optimal Threshold Tuning"
   ]
  },
  {
   "cell_type": "raw",
   "metadata": {},
   "source": [
    "Sometimes, we simply have a model and we wish to know the best threshold directly. In this\n",
    "case, we can define a set of thresholds and then evaluate predicted probabilities under each in\n",
    "order to find and select the optimal threshold. We can demonstrate this with a worked example.\n",
    "First, we can fit a logistic regression model on our synthetic classification problem, then\n",
    "predict class labels and evaluate them using the F-measure, which is the harmonic mean of\n",
    "precision and recall. This will use the default threshold of 0.5 when interpreting the probabilities\n",
    "predicted by the logistic regression model."
   ]
  },
  {
   "cell_type": "code",
   "execution_count": 34,
   "metadata": {},
   "outputs": [],
   "source": [
    "from sklearn.datasets import make_classification\n",
    "from sklearn.linear_model import LogisticRegression\n",
    "from sklearn.model_selection import train_test_split\n",
    "from sklearn.metrics import f1_score"
   ]
  },
  {
   "cell_type": "code",
   "execution_count": 35,
   "metadata": {},
   "outputs": [],
   "source": [
    "X, y = make_classification(n_samples=10000, n_features=2, n_redundant=0,\n",
    "n_clusters_per_class=1, weights=[0.99], flip_y=0, random_state=4)\n",
    "# split into train/test sets\n",
    "trainX, testX, trainy, testy = train_test_split(X, y, test_size=0.5, random_state=2,\n",
    "stratify=y)"
   ]
  },
  {
   "cell_type": "code",
   "execution_count": 36,
   "metadata": {},
   "outputs": [
    {
     "data": {
      "text/plain": [
       "LogisticRegression()"
      ]
     },
     "execution_count": 36,
     "metadata": {},
     "output_type": "execute_result"
    }
   ],
   "source": [
    "model = LogisticRegression(solver='lbfgs')\n",
    "model.fit(trainX, trainy)"
   ]
  },
  {
   "cell_type": "code",
   "execution_count": 37,
   "metadata": {},
   "outputs": [
    {
     "name": "stdout",
     "output_type": "stream",
     "text": [
      "F-measure: 0.70130\n"
     ]
    }
   ],
   "source": [
    "yhat = model.predict(testX)\n",
    "# evaluate the model\n",
    "score = f1_score(testy, yhat)\n",
    "print('F-measure: %.5f' % score)"
   ]
  },
  {
   "cell_type": "code",
   "execution_count": 38,
   "metadata": {},
   "outputs": [],
   "source": [
    "yhat = model.predict_proba(testX)"
   ]
  },
  {
   "cell_type": "code",
   "execution_count": 39,
   "metadata": {},
   "outputs": [],
   "source": [
    "probs = yhat[:, 1]"
   ]
  },
  {
   "cell_type": "code",
   "execution_count": 45,
   "metadata": {},
   "outputs": [
    {
     "data": {
      "text/plain": [
       "array([0.0072413 , 0.00350449, 0.00013243, ..., 0.00121941, 0.00029446,\n",
       "       0.00039661])"
      ]
     },
     "execution_count": 45,
     "metadata": {},
     "output_type": "execute_result"
    }
   ],
   "source": [
    "probs"
   ]
  },
  {
   "cell_type": "code",
   "execution_count": 41,
   "metadata": {},
   "outputs": [],
   "source": [
    "thresholds = np.arange(0, 1, 0.001)"
   ]
  },
  {
   "cell_type": "code",
   "execution_count": 42,
   "metadata": {},
   "outputs": [
    {
     "data": {
      "text/plain": [
       "array([0.   , 0.001, 0.002, 0.003, 0.004, 0.005, 0.006, 0.007, 0.008,\n",
       "       0.009, 0.01 , 0.011, 0.012, 0.013, 0.014, 0.015, 0.016, 0.017,\n",
       "       0.018, 0.019, 0.02 , 0.021, 0.022, 0.023, 0.024, 0.025, 0.026,\n",
       "       0.027, 0.028, 0.029, 0.03 , 0.031, 0.032, 0.033, 0.034, 0.035,\n",
       "       0.036, 0.037, 0.038, 0.039, 0.04 , 0.041, 0.042, 0.043, 0.044,\n",
       "       0.045, 0.046, 0.047, 0.048, 0.049, 0.05 , 0.051, 0.052, 0.053,\n",
       "       0.054, 0.055, 0.056, 0.057, 0.058, 0.059, 0.06 , 0.061, 0.062,\n",
       "       0.063, 0.064, 0.065, 0.066, 0.067, 0.068, 0.069, 0.07 , 0.071,\n",
       "       0.072, 0.073, 0.074, 0.075, 0.076, 0.077, 0.078, 0.079, 0.08 ,\n",
       "       0.081, 0.082, 0.083, 0.084, 0.085, 0.086, 0.087, 0.088, 0.089,\n",
       "       0.09 , 0.091, 0.092, 0.093, 0.094, 0.095, 0.096, 0.097, 0.098,\n",
       "       0.099, 0.1  , 0.101, 0.102, 0.103, 0.104, 0.105, 0.106, 0.107,\n",
       "       0.108, 0.109, 0.11 , 0.111, 0.112, 0.113, 0.114, 0.115, 0.116,\n",
       "       0.117, 0.118, 0.119, 0.12 , 0.121, 0.122, 0.123, 0.124, 0.125,\n",
       "       0.126, 0.127, 0.128, 0.129, 0.13 , 0.131, 0.132, 0.133, 0.134,\n",
       "       0.135, 0.136, 0.137, 0.138, 0.139, 0.14 , 0.141, 0.142, 0.143,\n",
       "       0.144, 0.145, 0.146, 0.147, 0.148, 0.149, 0.15 , 0.151, 0.152,\n",
       "       0.153, 0.154, 0.155, 0.156, 0.157, 0.158, 0.159, 0.16 , 0.161,\n",
       "       0.162, 0.163, 0.164, 0.165, 0.166, 0.167, 0.168, 0.169, 0.17 ,\n",
       "       0.171, 0.172, 0.173, 0.174, 0.175, 0.176, 0.177, 0.178, 0.179,\n",
       "       0.18 , 0.181, 0.182, 0.183, 0.184, 0.185, 0.186, 0.187, 0.188,\n",
       "       0.189, 0.19 , 0.191, 0.192, 0.193, 0.194, 0.195, 0.196, 0.197,\n",
       "       0.198, 0.199, 0.2  , 0.201, 0.202, 0.203, 0.204, 0.205, 0.206,\n",
       "       0.207, 0.208, 0.209, 0.21 , 0.211, 0.212, 0.213, 0.214, 0.215,\n",
       "       0.216, 0.217, 0.218, 0.219, 0.22 , 0.221, 0.222, 0.223, 0.224,\n",
       "       0.225, 0.226, 0.227, 0.228, 0.229, 0.23 , 0.231, 0.232, 0.233,\n",
       "       0.234, 0.235, 0.236, 0.237, 0.238, 0.239, 0.24 , 0.241, 0.242,\n",
       "       0.243, 0.244, 0.245, 0.246, 0.247, 0.248, 0.249, 0.25 , 0.251,\n",
       "       0.252, 0.253, 0.254, 0.255, 0.256, 0.257, 0.258, 0.259, 0.26 ,\n",
       "       0.261, 0.262, 0.263, 0.264, 0.265, 0.266, 0.267, 0.268, 0.269,\n",
       "       0.27 , 0.271, 0.272, 0.273, 0.274, 0.275, 0.276, 0.277, 0.278,\n",
       "       0.279, 0.28 , 0.281, 0.282, 0.283, 0.284, 0.285, 0.286, 0.287,\n",
       "       0.288, 0.289, 0.29 , 0.291, 0.292, 0.293, 0.294, 0.295, 0.296,\n",
       "       0.297, 0.298, 0.299, 0.3  , 0.301, 0.302, 0.303, 0.304, 0.305,\n",
       "       0.306, 0.307, 0.308, 0.309, 0.31 , 0.311, 0.312, 0.313, 0.314,\n",
       "       0.315, 0.316, 0.317, 0.318, 0.319, 0.32 , 0.321, 0.322, 0.323,\n",
       "       0.324, 0.325, 0.326, 0.327, 0.328, 0.329, 0.33 , 0.331, 0.332,\n",
       "       0.333, 0.334, 0.335, 0.336, 0.337, 0.338, 0.339, 0.34 , 0.341,\n",
       "       0.342, 0.343, 0.344, 0.345, 0.346, 0.347, 0.348, 0.349, 0.35 ,\n",
       "       0.351, 0.352, 0.353, 0.354, 0.355, 0.356, 0.357, 0.358, 0.359,\n",
       "       0.36 , 0.361, 0.362, 0.363, 0.364, 0.365, 0.366, 0.367, 0.368,\n",
       "       0.369, 0.37 , 0.371, 0.372, 0.373, 0.374, 0.375, 0.376, 0.377,\n",
       "       0.378, 0.379, 0.38 , 0.381, 0.382, 0.383, 0.384, 0.385, 0.386,\n",
       "       0.387, 0.388, 0.389, 0.39 , 0.391, 0.392, 0.393, 0.394, 0.395,\n",
       "       0.396, 0.397, 0.398, 0.399, 0.4  , 0.401, 0.402, 0.403, 0.404,\n",
       "       0.405, 0.406, 0.407, 0.408, 0.409, 0.41 , 0.411, 0.412, 0.413,\n",
       "       0.414, 0.415, 0.416, 0.417, 0.418, 0.419, 0.42 , 0.421, 0.422,\n",
       "       0.423, 0.424, 0.425, 0.426, 0.427, 0.428, 0.429, 0.43 , 0.431,\n",
       "       0.432, 0.433, 0.434, 0.435, 0.436, 0.437, 0.438, 0.439, 0.44 ,\n",
       "       0.441, 0.442, 0.443, 0.444, 0.445, 0.446, 0.447, 0.448, 0.449,\n",
       "       0.45 , 0.451, 0.452, 0.453, 0.454, 0.455, 0.456, 0.457, 0.458,\n",
       "       0.459, 0.46 , 0.461, 0.462, 0.463, 0.464, 0.465, 0.466, 0.467,\n",
       "       0.468, 0.469, 0.47 , 0.471, 0.472, 0.473, 0.474, 0.475, 0.476,\n",
       "       0.477, 0.478, 0.479, 0.48 , 0.481, 0.482, 0.483, 0.484, 0.485,\n",
       "       0.486, 0.487, 0.488, 0.489, 0.49 , 0.491, 0.492, 0.493, 0.494,\n",
       "       0.495, 0.496, 0.497, 0.498, 0.499, 0.5  , 0.501, 0.502, 0.503,\n",
       "       0.504, 0.505, 0.506, 0.507, 0.508, 0.509, 0.51 , 0.511, 0.512,\n",
       "       0.513, 0.514, 0.515, 0.516, 0.517, 0.518, 0.519, 0.52 , 0.521,\n",
       "       0.522, 0.523, 0.524, 0.525, 0.526, 0.527, 0.528, 0.529, 0.53 ,\n",
       "       0.531, 0.532, 0.533, 0.534, 0.535, 0.536, 0.537, 0.538, 0.539,\n",
       "       0.54 , 0.541, 0.542, 0.543, 0.544, 0.545, 0.546, 0.547, 0.548,\n",
       "       0.549, 0.55 , 0.551, 0.552, 0.553, 0.554, 0.555, 0.556, 0.557,\n",
       "       0.558, 0.559, 0.56 , 0.561, 0.562, 0.563, 0.564, 0.565, 0.566,\n",
       "       0.567, 0.568, 0.569, 0.57 , 0.571, 0.572, 0.573, 0.574, 0.575,\n",
       "       0.576, 0.577, 0.578, 0.579, 0.58 , 0.581, 0.582, 0.583, 0.584,\n",
       "       0.585, 0.586, 0.587, 0.588, 0.589, 0.59 , 0.591, 0.592, 0.593,\n",
       "       0.594, 0.595, 0.596, 0.597, 0.598, 0.599, 0.6  , 0.601, 0.602,\n",
       "       0.603, 0.604, 0.605, 0.606, 0.607, 0.608, 0.609, 0.61 , 0.611,\n",
       "       0.612, 0.613, 0.614, 0.615, 0.616, 0.617, 0.618, 0.619, 0.62 ,\n",
       "       0.621, 0.622, 0.623, 0.624, 0.625, 0.626, 0.627, 0.628, 0.629,\n",
       "       0.63 , 0.631, 0.632, 0.633, 0.634, 0.635, 0.636, 0.637, 0.638,\n",
       "       0.639, 0.64 , 0.641, 0.642, 0.643, 0.644, 0.645, 0.646, 0.647,\n",
       "       0.648, 0.649, 0.65 , 0.651, 0.652, 0.653, 0.654, 0.655, 0.656,\n",
       "       0.657, 0.658, 0.659, 0.66 , 0.661, 0.662, 0.663, 0.664, 0.665,\n",
       "       0.666, 0.667, 0.668, 0.669, 0.67 , 0.671, 0.672, 0.673, 0.674,\n",
       "       0.675, 0.676, 0.677, 0.678, 0.679, 0.68 , 0.681, 0.682, 0.683,\n",
       "       0.684, 0.685, 0.686, 0.687, 0.688, 0.689, 0.69 , 0.691, 0.692,\n",
       "       0.693, 0.694, 0.695, 0.696, 0.697, 0.698, 0.699, 0.7  , 0.701,\n",
       "       0.702, 0.703, 0.704, 0.705, 0.706, 0.707, 0.708, 0.709, 0.71 ,\n",
       "       0.711, 0.712, 0.713, 0.714, 0.715, 0.716, 0.717, 0.718, 0.719,\n",
       "       0.72 , 0.721, 0.722, 0.723, 0.724, 0.725, 0.726, 0.727, 0.728,\n",
       "       0.729, 0.73 , 0.731, 0.732, 0.733, 0.734, 0.735, 0.736, 0.737,\n",
       "       0.738, 0.739, 0.74 , 0.741, 0.742, 0.743, 0.744, 0.745, 0.746,\n",
       "       0.747, 0.748, 0.749, 0.75 , 0.751, 0.752, 0.753, 0.754, 0.755,\n",
       "       0.756, 0.757, 0.758, 0.759, 0.76 , 0.761, 0.762, 0.763, 0.764,\n",
       "       0.765, 0.766, 0.767, 0.768, 0.769, 0.77 , 0.771, 0.772, 0.773,\n",
       "       0.774, 0.775, 0.776, 0.777, 0.778, 0.779, 0.78 , 0.781, 0.782,\n",
       "       0.783, 0.784, 0.785, 0.786, 0.787, 0.788, 0.789, 0.79 , 0.791,\n",
       "       0.792, 0.793, 0.794, 0.795, 0.796, 0.797, 0.798, 0.799, 0.8  ,\n",
       "       0.801, 0.802, 0.803, 0.804, 0.805, 0.806, 0.807, 0.808, 0.809,\n",
       "       0.81 , 0.811, 0.812, 0.813, 0.814, 0.815, 0.816, 0.817, 0.818,\n",
       "       0.819, 0.82 , 0.821, 0.822, 0.823, 0.824, 0.825, 0.826, 0.827,\n",
       "       0.828, 0.829, 0.83 , 0.831, 0.832, 0.833, 0.834, 0.835, 0.836,\n",
       "       0.837, 0.838, 0.839, 0.84 , 0.841, 0.842, 0.843, 0.844, 0.845,\n",
       "       0.846, 0.847, 0.848, 0.849, 0.85 , 0.851, 0.852, 0.853, 0.854,\n",
       "       0.855, 0.856, 0.857, 0.858, 0.859, 0.86 , 0.861, 0.862, 0.863,\n",
       "       0.864, 0.865, 0.866, 0.867, 0.868, 0.869, 0.87 , 0.871, 0.872,\n",
       "       0.873, 0.874, 0.875, 0.876, 0.877, 0.878, 0.879, 0.88 , 0.881,\n",
       "       0.882, 0.883, 0.884, 0.885, 0.886, 0.887, 0.888, 0.889, 0.89 ,\n",
       "       0.891, 0.892, 0.893, 0.894, 0.895, 0.896, 0.897, 0.898, 0.899,\n",
       "       0.9  , 0.901, 0.902, 0.903, 0.904, 0.905, 0.906, 0.907, 0.908,\n",
       "       0.909, 0.91 , 0.911, 0.912, 0.913, 0.914, 0.915, 0.916, 0.917,\n",
       "       0.918, 0.919, 0.92 , 0.921, 0.922, 0.923, 0.924, 0.925, 0.926,\n",
       "       0.927, 0.928, 0.929, 0.93 , 0.931, 0.932, 0.933, 0.934, 0.935,\n",
       "       0.936, 0.937, 0.938, 0.939, 0.94 , 0.941, 0.942, 0.943, 0.944,\n",
       "       0.945, 0.946, 0.947, 0.948, 0.949, 0.95 , 0.951, 0.952, 0.953,\n",
       "       0.954, 0.955, 0.956, 0.957, 0.958, 0.959, 0.96 , 0.961, 0.962,\n",
       "       0.963, 0.964, 0.965, 0.966, 0.967, 0.968, 0.969, 0.97 , 0.971,\n",
       "       0.972, 0.973, 0.974, 0.975, 0.976, 0.977, 0.978, 0.979, 0.98 ,\n",
       "       0.981, 0.982, 0.983, 0.984, 0.985, 0.986, 0.987, 0.988, 0.989,\n",
       "       0.99 , 0.991, 0.992, 0.993, 0.994, 0.995, 0.996, 0.997, 0.998,\n",
       "       0.999])"
      ]
     },
     "execution_count": 42,
     "metadata": {},
     "output_type": "execute_result"
    }
   ],
   "source": [
    "thresholds"
   ]
  },
  {
   "cell_type": "code",
   "execution_count": null,
   "metadata": {},
   "outputs": [],
   "source": []
  },
  {
   "cell_type": "code",
   "execution_count": 48,
   "metadata": {},
   "outputs": [
    {
     "data": {
      "text/plain": [
       "array([0, 0, 0, ..., 0, 0, 0])"
      ]
     },
     "execution_count": 48,
     "metadata": {},
     "output_type": "execute_result"
    }
   ],
   "source": [
    "testy"
   ]
  },
  {
   "cell_type": "code",
   "execution_count": 49,
   "metadata": {},
   "outputs": [],
   "source": [
    "def to_labels(pos_probs, threshold):\n",
    "    return (pos_probs >= threshold).astype('int')"
   ]
  },
  {
   "cell_type": "code",
   "execution_count": 50,
   "metadata": {},
   "outputs": [],
   "source": [
    "scores = [f1_score(testy, to_labels(probs, t)) for t in thresholds]"
   ]
  },
  {
   "cell_type": "code",
   "execution_count": 51,
   "metadata": {},
   "outputs": [
    {
     "data": {
      "text/plain": [
       "[0.019801980198019802,\n",
       " 0.04746084480303749,\n",
       " 0.06747638326585693,\n",
       " 0.08046940486169321,\n",
       " 0.09667673716012085,\n",
       " 0.10942956926658905,\n",
       " 0.1219195849546044,\n",
       " 0.13564213564213565,\n",
       " 0.1499202551834131,\n",
       " 0.1591695501730104,\n",
       " 0.17358490566037735,\n",
       " 0.19126819126819128,\n",
       " 0.20767494356659147,\n",
       " 0.21904761904761907,\n",
       " 0.2340966921119593,\n",
       " 0.24274406332453824,\n",
       " 0.2555555555555556,\n",
       " 0.2647058823529411,\n",
       " 0.27522935779816515,\n",
       " 0.28295819935691324,\n",
       " 0.29054054054054057,\n",
       " 0.3028169014084507,\n",
       " 0.31159420289855067,\n",
       " 0.33204633204633205,\n",
       " 0.3426294820717132,\n",
       " 0.3583333333333334,\n",
       " 0.36595744680851067,\n",
       " 0.38053097345132747,\n",
       " 0.3926940639269406,\n",
       " 0.40375586854460094,\n",
       " 0.4019138755980861,\n",
       " 0.40579710144927533,\n",
       " 0.4158415841584159,\n",
       " 0.42,\n",
       " 0.4307692307692308,\n",
       " 0.43979057591623033,\n",
       " 0.44919786096256686,\n",
       " 0.4590163934426229,\n",
       " 0.46408839779005523,\n",
       " 0.47191011235955066,\n",
       " 0.48000000000000004,\n",
       " 0.48554913294797697,\n",
       " 0.47953216374269003,\n",
       " 0.48520710059171596,\n",
       " 0.4880952380952381,\n",
       " 0.49397590361445787,\n",
       " 0.49397590361445787,\n",
       " 0.5,\n",
       " 0.5061728395061729,\n",
       " 0.5157232704402516,\n",
       " 0.5128205128205128,\n",
       " 0.5194805194805195,\n",
       " 0.5263157894736842,\n",
       " 0.5333333333333333,\n",
       " 0.5369127516778524,\n",
       " 0.5442176870748299,\n",
       " 0.547945205479452,\n",
       " 0.5555555555555557,\n",
       " 0.5555555555555557,\n",
       " 0.5594405594405595,\n",
       " 0.5714285714285714,\n",
       " 0.5611510791366907,\n",
       " 0.5611510791366907,\n",
       " 0.5652173913043479,\n",
       " 0.5693430656934306,\n",
       " 0.5777777777777778,\n",
       " 0.582089552238806,\n",
       " 0.582089552238806,\n",
       " 0.5909090909090909,\n",
       " 0.5954198473282443,\n",
       " 0.5846153846153846,\n",
       " 0.5846153846153846,\n",
       " 0.5846153846153846,\n",
       " 0.5846153846153846,\n",
       " 0.5891472868217054,\n",
       " 0.5891472868217054,\n",
       " 0.5891472868217054,\n",
       " 0.5891472868217054,\n",
       " 0.5891472868217054,\n",
       " 0.5891472868217054,\n",
       " 0.5984251968503937,\n",
       " 0.6031746031746031,\n",
       " 0.6031746031746031,\n",
       " 0.6080000000000001,\n",
       " 0.6080000000000001,\n",
       " 0.6129032258064517,\n",
       " 0.6129032258064517,\n",
       " 0.6129032258064517,\n",
       " 0.6178861788617885,\n",
       " 0.6229508196721312,\n",
       " 0.628099173553719,\n",
       " 0.6166666666666666,\n",
       " 0.6166666666666666,\n",
       " 0.6271186440677965,\n",
       " 0.6271186440677965,\n",
       " 0.6271186440677965,\n",
       " 0.6324786324786325,\n",
       " 0.6324786324786325,\n",
       " 0.6324786324786325,\n",
       " 0.6324786324786325,\n",
       " 0.6324786324786325,\n",
       " 0.6324786324786325,\n",
       " 0.6379310344827586,\n",
       " 0.6379310344827586,\n",
       " 0.6379310344827586,\n",
       " 0.6379310344827586,\n",
       " 0.6434782608695652,\n",
       " 0.6434782608695652,\n",
       " 0.631578947368421,\n",
       " 0.631578947368421,\n",
       " 0.6371681415929202,\n",
       " 0.6371681415929202,\n",
       " 0.6371681415929202,\n",
       " 0.6371681415929202,\n",
       " 0.6371681415929202,\n",
       " 0.6428571428571428,\n",
       " 0.6428571428571428,\n",
       " 0.6486486486486487,\n",
       " 0.6666666666666666,\n",
       " 0.6666666666666666,\n",
       " 0.6666666666666666,\n",
       " 0.6666666666666666,\n",
       " 0.6666666666666666,\n",
       " 0.6666666666666666,\n",
       " 0.6728971962616822,\n",
       " 0.6728971962616822,\n",
       " 0.6728971962616822,\n",
       " 0.6792452830188679,\n",
       " 0.6792452830188679,\n",
       " 0.6792452830188679,\n",
       " 0.6792452830188679,\n",
       " 0.6857142857142857,\n",
       " 0.6857142857142857,\n",
       " 0.6857142857142857,\n",
       " 0.6923076923076923,\n",
       " 0.6923076923076923,\n",
       " 0.6923076923076923,\n",
       " 0.6923076923076923,\n",
       " 0.6923076923076923,\n",
       " 0.6923076923076923,\n",
       " 0.6923076923076923,\n",
       " 0.6923076923076923,\n",
       " 0.6796116504854369,\n",
       " 0.6796116504854369,\n",
       " 0.6862745098039216,\n",
       " 0.6862745098039216,\n",
       " 0.6862745098039216,\n",
       " 0.6862745098039216,\n",
       " 0.6862745098039216,\n",
       " 0.6862745098039216,\n",
       " 0.6862745098039216,\n",
       " 0.6862745098039216,\n",
       " 0.6862745098039216,\n",
       " 0.6862745098039216,\n",
       " 0.6862745098039216,\n",
       " 0.6862745098039216,\n",
       " 0.6862745098039216,\n",
       " 0.693069306930693,\n",
       " 0.7,\n",
       " 0.7070707070707072,\n",
       " 0.7070707070707072,\n",
       " 0.7070707070707072,\n",
       " 0.7070707070707072,\n",
       " 0.7142857142857142,\n",
       " 0.7142857142857142,\n",
       " 0.7142857142857142,\n",
       " 0.7142857142857142,\n",
       " 0.7142857142857142,\n",
       " 0.7142857142857142,\n",
       " 0.7142857142857142,\n",
       " 0.7142857142857142,\n",
       " 0.7142857142857142,\n",
       " 0.7142857142857142,\n",
       " 0.7142857142857142,\n",
       " 0.7142857142857142,\n",
       " 0.7142857142857142,\n",
       " 0.7142857142857142,\n",
       " 0.7142857142857142,\n",
       " 0.7142857142857142,\n",
       " 0.7142857142857142,\n",
       " 0.7142857142857142,\n",
       " 0.7142857142857142,\n",
       " 0.7142857142857142,\n",
       " 0.7142857142857142,\n",
       " 0.7142857142857142,\n",
       " 0.7142857142857142,\n",
       " 0.7216494845360825,\n",
       " 0.7216494845360825,\n",
       " 0.7216494845360825,\n",
       " 0.7216494845360825,\n",
       " 0.7216494845360825,\n",
       " 0.7216494845360825,\n",
       " 0.7216494845360825,\n",
       " 0.7216494845360825,\n",
       " 0.7216494845360825,\n",
       " 0.7216494845360825,\n",
       " 0.7216494845360825,\n",
       " 0.7216494845360825,\n",
       " 0.7291666666666667,\n",
       " 0.7291666666666667,\n",
       " 0.7291666666666667,\n",
       " 0.7291666666666667,\n",
       " 0.7291666666666667,\n",
       " 0.7291666666666667,\n",
       " 0.7291666666666667,\n",
       " 0.7291666666666667,\n",
       " 0.7291666666666667,\n",
       " 0.7291666666666667,\n",
       " 0.7291666666666667,\n",
       " 0.7291666666666667,\n",
       " 0.7291666666666667,\n",
       " 0.7291666666666667,\n",
       " 0.7291666666666667,\n",
       " 0.7291666666666667,\n",
       " 0.7368421052631577,\n",
       " 0.7446808510638298,\n",
       " 0.7446808510638298,\n",
       " 0.7446808510638298,\n",
       " 0.7446808510638298,\n",
       " 0.7446808510638298,\n",
       " 0.7446808510638298,\n",
       " 0.7446808510638298,\n",
       " 0.7446808510638298,\n",
       " 0.7311827956989247,\n",
       " 0.7311827956989247,\n",
       " 0.7311827956989247,\n",
       " 0.7311827956989247,\n",
       " 0.7311827956989247,\n",
       " 0.7311827956989247,\n",
       " 0.7311827956989247,\n",
       " 0.7311827956989247,\n",
       " 0.7311827956989247,\n",
       " 0.7311827956989247,\n",
       " 0.7311827956989247,\n",
       " 0.7311827956989247,\n",
       " 0.7311827956989247,\n",
       " 0.7311827956989247,\n",
       " 0.7311827956989247,\n",
       " 0.7311827956989247,\n",
       " 0.7311827956989247,\n",
       " 0.7391304347826089,\n",
       " 0.7391304347826089,\n",
       " 0.7391304347826089,\n",
       " 0.7391304347826089,\n",
       " 0.7391304347826089,\n",
       " 0.7391304347826089,\n",
       " 0.7391304347826089,\n",
       " 0.7391304347826089,\n",
       " 0.7472527472527474,\n",
       " 0.7472527472527474,\n",
       " 0.7472527472527474,\n",
       " 0.7555555555555556,\n",
       " 0.7555555555555556,\n",
       " 0.7555555555555556,\n",
       " 0.7555555555555556,\n",
       " 0.7555555555555556,\n",
       " 0.7555555555555556,\n",
       " 0.7415730337078651,\n",
       " 0.7415730337078651,\n",
       " 0.7500000000000001,\n",
       " 0.7500000000000001,\n",
       " 0.7500000000000001,\n",
       " 0.7500000000000001,\n",
       " 0.7500000000000001,\n",
       " 0.7500000000000001,\n",
       " 0.7500000000000001,\n",
       " 0.7500000000000001,\n",
       " 0.7356321839080459,\n",
       " 0.7356321839080459,\n",
       " 0.7356321839080459,\n",
       " 0.7356321839080459,\n",
       " 0.7356321839080459,\n",
       " 0.7356321839080459,\n",
       " 0.7356321839080459,\n",
       " 0.7356321839080459,\n",
       " 0.7356321839080459,\n",
       " 0.7356321839080459,\n",
       " 0.7356321839080459,\n",
       " 0.7356321839080459,\n",
       " 0.7356321839080459,\n",
       " 0.7356321839080459,\n",
       " 0.7356321839080459,\n",
       " 0.7356321839080459,\n",
       " 0.7356321839080459,\n",
       " 0.7356321839080459,\n",
       " 0.7356321839080459,\n",
       " 0.7356321839080459,\n",
       " 0.7356321839080459,\n",
       " 0.7356321839080459,\n",
       " 0.7356321839080459,\n",
       " 0.7356321839080459,\n",
       " 0.7356321839080459,\n",
       " 0.7356321839080459,\n",
       " 0.7356321839080459,\n",
       " 0.7356321839080459,\n",
       " 0.7356321839080459,\n",
       " 0.7356321839080459,\n",
       " 0.7356321839080459,\n",
       " 0.7209302325581396,\n",
       " 0.7209302325581396,\n",
       " 0.7209302325581396,\n",
       " 0.7209302325581396,\n",
       " 0.7209302325581396,\n",
       " 0.7209302325581396,\n",
       " 0.7209302325581396,\n",
       " 0.7209302325581396,\n",
       " 0.7209302325581396,\n",
       " 0.7209302325581396,\n",
       " 0.7209302325581396,\n",
       " 0.7209302325581396,\n",
       " 0.7209302325581396,\n",
       " 0.7209302325581396,\n",
       " 0.7209302325581396,\n",
       " 0.7209302325581396,\n",
       " 0.7209302325581396,\n",
       " 0.7209302325581396,\n",
       " 0.7209302325581396,\n",
       " 0.7209302325581396,\n",
       " 0.7209302325581396,\n",
       " 0.7294117647058823,\n",
       " 0.7294117647058823,\n",
       " 0.7294117647058823,\n",
       " 0.7294117647058823,\n",
       " 0.7380952380952381,\n",
       " 0.7380952380952381,\n",
       " 0.7380952380952381,\n",
       " 0.7380952380952381,\n",
       " 0.7380952380952381,\n",
       " 0.7380952380952381,\n",
       " 0.7380952380952381,\n",
       " 0.7380952380952381,\n",
       " 0.7380952380952381,\n",
       " 0.7380952380952381,\n",
       " 0.7380952380952381,\n",
       " 0.7380952380952381,\n",
       " 0.7380952380952381,\n",
       " 0.7380952380952381,\n",
       " 0.7380952380952381,\n",
       " 0.7380952380952381,\n",
       " 0.7380952380952381,\n",
       " 0.7380952380952381,\n",
       " 0.7380952380952381,\n",
       " 0.7380952380952381,\n",
       " 0.7380952380952381,\n",
       " 0.7380952380952381,\n",
       " 0.7380952380952381,\n",
       " 0.7380952380952381,\n",
       " 0.7380952380952381,\n",
       " 0.7380952380952381,\n",
       " 0.7380952380952381,\n",
       " 0.7380952380952381,\n",
       " 0.7380952380952381,\n",
       " 0.7380952380952381,\n",
       " 0.7380952380952381,\n",
       " 0.7380952380952381,\n",
       " 0.7380952380952381,\n",
       " 0.7380952380952381,\n",
       " 0.7380952380952381,\n",
       " 0.7380952380952381,\n",
       " 0.7380952380952381,\n",
       " 0.7380952380952381,\n",
       " 0.7228915662650602,\n",
       " 0.7228915662650602,\n",
       " 0.7228915662650602,\n",
       " 0.7228915662650602,\n",
       " 0.7228915662650602,\n",
       " 0.7228915662650602,\n",
       " 0.7228915662650602,\n",
       " 0.7228915662650602,\n",
       " 0.7228915662650602,\n",
       " 0.7228915662650602,\n",
       " 0.7228915662650602,\n",
       " 0.7228915662650602,\n",
       " 0.7228915662650602,\n",
       " 0.7228915662650602,\n",
       " 0.7228915662650602,\n",
       " 0.7228915662650602,\n",
       " 0.7228915662650602,\n",
       " 0.7228915662650602,\n",
       " 0.7228915662650602,\n",
       " 0.7228915662650602,\n",
       " 0.7228915662650602,\n",
       " 0.7228915662650602,\n",
       " 0.7228915662650602,\n",
       " 0.7228915662650602,\n",
       " 0.7228915662650602,\n",
       " 0.7228915662650602,\n",
       " 0.7228915662650602,\n",
       " 0.7228915662650602,\n",
       " 0.7228915662650602,\n",
       " 0.7228915662650602,\n",
       " 0.7228915662650602,\n",
       " 0.7228915662650602,\n",
       " 0.7228915662650602,\n",
       " 0.7228915662650602,\n",
       " 0.7228915662650602,\n",
       " 0.7228915662650602,\n",
       " 0.7228915662650602,\n",
       " 0.7228915662650602,\n",
       " 0.7228915662650602,\n",
       " 0.7228915662650602,\n",
       " 0.7228915662650602,\n",
       " 0.7228915662650602,\n",
       " 0.7228915662650602,\n",
       " 0.7228915662650602,\n",
       " 0.7228915662650602,\n",
       " 0.7228915662650602,\n",
       " 0.7228915662650602,\n",
       " 0.7228915662650602,\n",
       " 0.7073170731707317,\n",
       " 0.7073170731707317,\n",
       " 0.7160493827160493,\n",
       " 0.7160493827160493,\n",
       " 0.7160493827160493,\n",
       " 0.7160493827160493,\n",
       " 0.7160493827160493,\n",
       " 0.7160493827160493,\n",
       " 0.7160493827160493,\n",
       " 0.725,\n",
       " 0.725,\n",
       " 0.725,\n",
       " 0.725,\n",
       " 0.725,\n",
       " 0.725,\n",
       " 0.725,\n",
       " 0.725,\n",
       " 0.725,\n",
       " 0.725,\n",
       " 0.725,\n",
       " 0.725,\n",
       " 0.725,\n",
       " 0.725,\n",
       " 0.725,\n",
       " 0.725,\n",
       " 0.725,\n",
       " 0.725,\n",
       " 0.725,\n",
       " 0.725,\n",
       " 0.7088607594936709,\n",
       " 0.7088607594936709,\n",
       " 0.7088607594936709,\n",
       " 0.7088607594936709,\n",
       " 0.7088607594936709,\n",
       " 0.7088607594936709,\n",
       " 0.7088607594936709,\n",
       " 0.7088607594936709,\n",
       " 0.7088607594936709,\n",
       " 0.7088607594936709,\n",
       " 0.7088607594936709,\n",
       " 0.7088607594936709,\n",
       " 0.7088607594936709,\n",
       " 0.7088607594936709,\n",
       " 0.7088607594936709,\n",
       " 0.7088607594936709,\n",
       " 0.7088607594936709,\n",
       " 0.7088607594936709,\n",
       " 0.7088607594936709,\n",
       " 0.7088607594936709,\n",
       " 0.7088607594936709,\n",
       " 0.7088607594936709,\n",
       " 0.7088607594936709,\n",
       " 0.7088607594936709,\n",
       " 0.7088607594936709,\n",
       " 0.7088607594936709,\n",
       " 0.7088607594936709,\n",
       " 0.717948717948718,\n",
       " 0.717948717948718,\n",
       " 0.717948717948718,\n",
       " 0.717948717948718,\n",
       " 0.717948717948718,\n",
       " 0.717948717948718,\n",
       " 0.717948717948718,\n",
       " 0.717948717948718,\n",
       " 0.717948717948718,\n",
       " 0.717948717948718,\n",
       " 0.717948717948718,\n",
       " 0.717948717948718,\n",
       " 0.717948717948718,\n",
       " 0.717948717948718,\n",
       " 0.717948717948718,\n",
       " 0.717948717948718,\n",
       " 0.717948717948718,\n",
       " 0.717948717948718,\n",
       " 0.717948717948718,\n",
       " 0.717948717948718,\n",
       " 0.717948717948718,\n",
       " 0.717948717948718,\n",
       " 0.717948717948718,\n",
       " 0.717948717948718,\n",
       " 0.717948717948718,\n",
       " 0.717948717948718,\n",
       " 0.717948717948718,\n",
       " 0.717948717948718,\n",
       " 0.717948717948718,\n",
       " 0.717948717948718,\n",
       " 0.717948717948718,\n",
       " 0.717948717948718,\n",
       " 0.7012987012987013,\n",
       " 0.7012987012987013,\n",
       " 0.7012987012987013,\n",
       " 0.7012987012987013,\n",
       " 0.7012987012987013,\n",
       " 0.7012987012987013,\n",
       " 0.7012987012987013,\n",
       " 0.7012987012987013,\n",
       " 0.7012987012987013,\n",
       " 0.7012987012987013,\n",
       " 0.7012987012987013,\n",
       " 0.7012987012987013,\n",
       " 0.7012987012987013,\n",
       " 0.7012987012987013,\n",
       " 0.7012987012987013,\n",
       " 0.7012987012987013,\n",
       " 0.6842105263157895,\n",
       " 0.6842105263157895,\n",
       " 0.6842105263157895,\n",
       " 0.6842105263157895,\n",
       " 0.6842105263157895,\n",
       " 0.6842105263157895,\n",
       " 0.6842105263157895,\n",
       " 0.6842105263157895,\n",
       " 0.6842105263157895,\n",
       " 0.6842105263157895,\n",
       " 0.6842105263157895,\n",
       " 0.6842105263157895,\n",
       " 0.6842105263157895,\n",
       " 0.6842105263157895,\n",
       " 0.6842105263157895,\n",
       " 0.6842105263157895,\n",
       " 0.6842105263157895,\n",
       " 0.6666666666666666,\n",
       " 0.6666666666666666,\n",
       " 0.6666666666666666,\n",
       " 0.6666666666666666,\n",
       " 0.6666666666666666,\n",
       " 0.6666666666666666,\n",
       " 0.6666666666666666,\n",
       " 0.6666666666666666,\n",
       " 0.6666666666666666,\n",
       " 0.6666666666666666,\n",
       " 0.6486486486486487,\n",
       " 0.6486486486486487,\n",
       " 0.6486486486486487,\n",
       " 0.6486486486486487,\n",
       " 0.6486486486486487,\n",
       " 0.6486486486486487,\n",
       " 0.6486486486486487,\n",
       " 0.6486486486486487,\n",
       " 0.6486486486486487,\n",
       " 0.6486486486486487,\n",
       " 0.6486486486486487,\n",
       " 0.6486486486486487,\n",
       " 0.6486486486486487,\n",
       " 0.6486486486486487,\n",
       " 0.6486486486486487,\n",
       " 0.6486486486486487,\n",
       " 0.6486486486486487,\n",
       " 0.6486486486486487,\n",
       " 0.6486486486486487,\n",
       " 0.6486486486486487,\n",
       " 0.6486486486486487,\n",
       " 0.6301369863013699,\n",
       " 0.6301369863013699,\n",
       " 0.6301369863013699,\n",
       " 0.6301369863013699,\n",
       " 0.6301369863013699,\n",
       " 0.6301369863013699,\n",
       " 0.6301369863013699,\n",
       " 0.6301369863013699,\n",
       " 0.6301369863013699,\n",
       " 0.6301369863013699,\n",
       " 0.6301369863013699,\n",
       " 0.6301369863013699,\n",
       " 0.6301369863013699,\n",
       " 0.6301369863013699,\n",
       " 0.6301369863013699,\n",
       " 0.6301369863013699,\n",
       " 0.6301369863013699,\n",
       " 0.6301369863013699,\n",
       " 0.6301369863013699,\n",
       " 0.6301369863013699,\n",
       " 0.6301369863013699,\n",
       " 0.6301369863013699,\n",
       " 0.6301369863013699,\n",
       " 0.6301369863013699,\n",
       " 0.6301369863013699,\n",
       " 0.6301369863013699,\n",
       " 0.6301369863013699,\n",
       " 0.6301369863013699,\n",
       " 0.6301369863013699,\n",
       " 0.6301369863013699,\n",
       " 0.6301369863013699,\n",
       " 0.6301369863013699,\n",
       " 0.6301369863013699,\n",
       " 0.6301369863013699,\n",
       " 0.6301369863013699,\n",
       " 0.6301369863013699,\n",
       " 0.6301369863013699,\n",
       " 0.6301369863013699,\n",
       " 0.6301369863013699,\n",
       " 0.6301369863013699,\n",
       " 0.6301369863013699,\n",
       " 0.6301369863013699,\n",
       " 0.6301369863013699,\n",
       " 0.6301369863013699,\n",
       " 0.6301369863013699,\n",
       " 0.6301369863013699,\n",
       " 0.6301369863013699,\n",
       " 0.6301369863013699,\n",
       " 0.6301369863013699,\n",
       " 0.6111111111111112,\n",
       " 0.6111111111111112,\n",
       " 0.6111111111111112,\n",
       " 0.6111111111111112,\n",
       " 0.6111111111111112,\n",
       " 0.6111111111111112,\n",
       " 0.6111111111111112,\n",
       " 0.6111111111111112,\n",
       " 0.6111111111111112,\n",
       " 0.6111111111111112,\n",
       " 0.6111111111111112,\n",
       " 0.6111111111111112,\n",
       " 0.6111111111111112,\n",
       " 0.6111111111111112,\n",
       " 0.6111111111111112,\n",
       " 0.6111111111111112,\n",
       " 0.6111111111111112,\n",
       " 0.6111111111111112,\n",
       " 0.6111111111111112,\n",
       " 0.6111111111111112,\n",
       " 0.6111111111111112,\n",
       " 0.6111111111111112,\n",
       " 0.6111111111111112,\n",
       " 0.6111111111111112,\n",
       " 0.6111111111111112,\n",
       " 0.6111111111111112,\n",
       " 0.6111111111111112,\n",
       " 0.6111111111111112,\n",
       " 0.6111111111111112,\n",
       " 0.6111111111111112,\n",
       " 0.6111111111111112,\n",
       " 0.6111111111111112,\n",
       " 0.6111111111111112,\n",
       " 0.6111111111111112,\n",
       " 0.6111111111111112,\n",
       " 0.6111111111111112,\n",
       " 0.6111111111111112,\n",
       " 0.6111111111111112,\n",
       " 0.5915492957746479,\n",
       " 0.5915492957746479,\n",
       " 0.5915492957746479,\n",
       " 0.5915492957746479,\n",
       " 0.5915492957746479,\n",
       " 0.5915492957746479,\n",
       " 0.5915492957746479,\n",
       " 0.5915492957746479,\n",
       " 0.5915492957746479,\n",
       " 0.5915492957746479,\n",
       " 0.5915492957746479,\n",
       " 0.5915492957746479,\n",
       " 0.5915492957746479,\n",
       " 0.5915492957746479,\n",
       " 0.5915492957746479,\n",
       " 0.5915492957746479,\n",
       " 0.5915492957746479,\n",
       " 0.5915492957746479,\n",
       " 0.5915492957746479,\n",
       " 0.5915492957746479,\n",
       " 0.5915492957746479,\n",
       " 0.5915492957746479,\n",
       " 0.5714285714285715,\n",
       " 0.5714285714285715,\n",
       " 0.5714285714285715,\n",
       " 0.5714285714285715,\n",
       " 0.5714285714285715,\n",
       " 0.5714285714285715,\n",
       " 0.5714285714285715,\n",
       " 0.5714285714285715,\n",
       " 0.5714285714285715,\n",
       " 0.5714285714285715,\n",
       " 0.5714285714285715,\n",
       " 0.5714285714285715,\n",
       " 0.5714285714285715,\n",
       " 0.5714285714285715,\n",
       " 0.5714285714285715,\n",
       " 0.5714285714285715,\n",
       " 0.5714285714285715,\n",
       " 0.5714285714285715,\n",
       " 0.5714285714285715,\n",
       " 0.5714285714285715,\n",
       " 0.5714285714285715,\n",
       " 0.5714285714285715,\n",
       " 0.5714285714285715,\n",
       " 0.5714285714285715,\n",
       " 0.5714285714285715,\n",
       " 0.5714285714285715,\n",
       " 0.5714285714285715,\n",
       " 0.5714285714285715,\n",
       " 0.5714285714285715,\n",
       " 0.5714285714285715,\n",
       " 0.5714285714285715,\n",
       " 0.5714285714285715,\n",
       " 0.5714285714285715,\n",
       " 0.5714285714285715,\n",
       " 0.5714285714285715,\n",
       " 0.5714285714285715,\n",
       " 0.5714285714285715,\n",
       " 0.5714285714285715,\n",
       " 0.5714285714285715,\n",
       " 0.5714285714285715,\n",
       " 0.5714285714285715,\n",
       " 0.5714285714285715,\n",
       " 0.5714285714285715,\n",
       " 0.5714285714285715,\n",
       " 0.5714285714285715,\n",
       " 0.5714285714285715,\n",
       " 0.5714285714285715,\n",
       " 0.5714285714285715,\n",
       " 0.5714285714285715,\n",
       " 0.5714285714285715,\n",
       " 0.5714285714285715,\n",
       " 0.5714285714285715,\n",
       " 0.5714285714285715,\n",
       " 0.5714285714285715,\n",
       " 0.5714285714285715,\n",
       " 0.5714285714285715,\n",
       " 0.5714285714285715,\n",
       " 0.5714285714285715,\n",
       " 0.5714285714285715,\n",
       " 0.5714285714285715,\n",
       " 0.5714285714285715,\n",
       " 0.5714285714285715,\n",
       " 0.5714285714285715,\n",
       " 0.5714285714285715,\n",
       " 0.5714285714285715,\n",
       " 0.5714285714285715,\n",
       " 0.5714285714285715,\n",
       " 0.5714285714285715,\n",
       " 0.5714285714285715,\n",
       " 0.5714285714285715,\n",
       " 0.5714285714285715,\n",
       " 0.5714285714285715,\n",
       " 0.5714285714285715,\n",
       " 0.5714285714285715,\n",
       " 0.5714285714285715,\n",
       " 0.5714285714285715,\n",
       " 0.5714285714285715,\n",
       " 0.5714285714285715,\n",
       " 0.5714285714285715,\n",
       " 0.5714285714285715,\n",
       " 0.5714285714285715,\n",
       " 0.5714285714285715,\n",
       " 0.5714285714285715,\n",
       " 0.5714285714285715,\n",
       " 0.5714285714285715,\n",
       " 0.5507246376811594,\n",
       " 0.5507246376811594,\n",
       " 0.5507246376811594,\n",
       " 0.5507246376811594,\n",
       " 0.5507246376811594,\n",
       " 0.5507246376811594,\n",
       " 0.5507246376811594,\n",
       " 0.5507246376811594,\n",
       " 0.5507246376811594,\n",
       " 0.5507246376811594,\n",
       " 0.5507246376811594,\n",
       " 0.5507246376811594,\n",
       " 0.5507246376811594,\n",
       " 0.5507246376811594,\n",
       " 0.5507246376811594,\n",
       " 0.5507246376811594,\n",
       " 0.5507246376811594,\n",
       " 0.5507246376811594,\n",
       " 0.5507246376811594,\n",
       " 0.5507246376811594,\n",
       " 0.5507246376811594,\n",
       " 0.5507246376811594,\n",
       " 0.5507246376811594,\n",
       " 0.5507246376811594,\n",
       " 0.5507246376811594,\n",
       " 0.5507246376811594,\n",
       " 0.5507246376811594,\n",
       " 0.5507246376811594,\n",
       " 0.5294117647058824,\n",
       " 0.5294117647058824,\n",
       " 0.5294117647058824,\n",
       " 0.5294117647058824,\n",
       " 0.5294117647058824,\n",
       " 0.5294117647058824,\n",
       " 0.5294117647058824,\n",
       " 0.5294117647058824,\n",
       " 0.5294117647058824,\n",
       " 0.5294117647058824,\n",
       " 0.5294117647058824,\n",
       " 0.5294117647058824,\n",
       " 0.5294117647058824,\n",
       " 0.5294117647058824,\n",
       " 0.5294117647058824,\n",
       " 0.5294117647058824,\n",
       " 0.5294117647058824,\n",
       " 0.5294117647058824,\n",
       " 0.5294117647058824,\n",
       " 0.5074626865671642,\n",
       " 0.5074626865671642,\n",
       " 0.5074626865671642,\n",
       " 0.5074626865671642,\n",
       " 0.5074626865671642,\n",
       " 0.5074626865671642,\n",
       " 0.5074626865671642,\n",
       " 0.5074626865671642,\n",
       " 0.5074626865671642,\n",
       " 0.5074626865671642,\n",
       " 0.5074626865671642,\n",
       " 0.5074626865671642,\n",
       " 0.5074626865671642,\n",
       " 0.5074626865671642,\n",
       " 0.5074626865671642,\n",
       " 0.5074626865671642,\n",
       " 0.5074626865671642,\n",
       " 0.5074626865671642,\n",
       " 0.5074626865671642,\n",
       " 0.5074626865671642,\n",
       " 0.5074626865671642,\n",
       " 0.5074626865671642,\n",
       " 0.5074626865671642,\n",
       " 0.5074626865671642,\n",
       " 0.5074626865671642,\n",
       " 0.5074626865671642,\n",
       " 0.5074626865671642,\n",
       " 0.5074626865671642,\n",
       " 0.5074626865671642,\n",
       " 0.5074626865671642,\n",
       " 0.5074626865671642,\n",
       " 0.5074626865671642,\n",
       " 0.5074626865671642,\n",
       " 0.5074626865671642,\n",
       " 0.5074626865671642,\n",
       " 0.5074626865671642,\n",
       " 0.5074626865671642,\n",
       " 0.5074626865671642,\n",
       " 0.5074626865671642,\n",
       " 0.5074626865671642,\n",
       " 0.5074626865671642,\n",
       " 0.5074626865671642,\n",
       " 0.5074626865671642,\n",
       " 0.5074626865671642,\n",
       " 0.5074626865671642,\n",
       " 0.5074626865671642,\n",
       " 0.5074626865671642,\n",
       " 0.5074626865671642,\n",
       " 0.5074626865671642,\n",
       " 0.5074626865671642,\n",
       " 0.5074626865671642,\n",
       " 0.5074626865671642,\n",
       " 0.5074626865671642,\n",
       " 0.5074626865671642,\n",
       " 0.5074626865671642,\n",
       " 0.5074626865671642,\n",
       " 0.5074626865671642,\n",
       " 0.5074626865671642,\n",
       " 0.48484848484848486,\n",
       " 0.4615384615384615,\n",
       " 0.4615384615384615,\n",
       " 0.4615384615384615,\n",
       " 0.4615384615384615,\n",
       " 0.4615384615384615,\n",
       " 0.4615384615384615,\n",
       " 0.4615384615384615,\n",
       " 0.4615384615384615,\n",
       " 0.4615384615384615,\n",
       " 0.4615384615384615,\n",
       " 0.4615384615384615,\n",
       " 0.4615384615384615,\n",
       " 0.4615384615384615,\n",
       " 0.4615384615384615,\n",
       " 0.4615384615384615,\n",
       " 0.4615384615384615,\n",
       " 0.4615384615384615,\n",
       " 0.4615384615384615,\n",
       " 0.43750000000000006,\n",
       " 0.43750000000000006,\n",
       " 0.43750000000000006,\n",
       " 0.43750000000000006,\n",
       " 0.43750000000000006,\n",
       " 0.43750000000000006,\n",
       " 0.43750000000000006,\n",
       " 0.43750000000000006,\n",
       " 0.43750000000000006,\n",
       " 0.43750000000000006,\n",
       " 0.43750000000000006,\n",
       " 0.43750000000000006,\n",
       " 0.43750000000000006,\n",
       " 0.43750000000000006,\n",
       " 0.43750000000000006,\n",
       " 0.43750000000000006,\n",
       " 0.43750000000000006,\n",
       " 0.43750000000000006,\n",
       " 0.43750000000000006,\n",
       " 0.43750000000000006,\n",
       " 0.43750000000000006,\n",
       " 0.43750000000000006,\n",
       " 0.43750000000000006,\n",
       " 0.43750000000000006,\n",
       " 0.43750000000000006,\n",
       " 0.43750000000000006,\n",
       " 0.43750000000000006,\n",
       " 0.43750000000000006,\n",
       " 0.41269841269841273,\n",
       " 0.41269841269841273,\n",
       " 0.41269841269841273,\n",
       " 0.41269841269841273,\n",
       " 0.41269841269841273,\n",
       " 0.41269841269841273,\n",
       " 0.41269841269841273,\n",
       " 0.41269841269841273,\n",
       " 0.41269841269841273,\n",
       " 0.3870967741935484,\n",
       " 0.3870967741935484,\n",
       " 0.3870967741935484,\n",
       " 0.36065573770491804,\n",
       " 0.36065573770491804,\n",
       " 0.36065573770491804,\n",
       " 0.36065573770491804,\n",
       " 0.36065573770491804,\n",
       " 0.36065573770491804,\n",
       " 0.36065573770491804,\n",
       " 0.36065573770491804,\n",
       " 0.36065573770491804,\n",
       " 0.36065573770491804,\n",
       " 0.36065573770491804,\n",
       " 0.36065573770491804,\n",
       " 0.36065573770491804,\n",
       " 0.36065573770491804,\n",
       " 0.36065573770491804,\n",
       " 0.36065573770491804,\n",
       " 0.36065573770491804,\n",
       " 0.36065573770491804,\n",
       " 0.36065573770491804,\n",
       " 0.36065573770491804,\n",
       " 0.36065573770491804,\n",
       " 0.36065573770491804,\n",
       " 0.36065573770491804,\n",
       " 0.36065573770491804,\n",
       " 0.36065573770491804,\n",
       " 0.36065573770491804,\n",
       " 0.36065573770491804,\n",
       " 0.36065573770491804,\n",
       " 0.36065573770491804,\n",
       " 0.36065573770491804,\n",
       " 0.36065573770491804,\n",
       " 0.36065573770491804,\n",
       " 0.36065573770491804,\n",
       " 0.36065573770491804,\n",
       " 0.36065573770491804,\n",
       " 0.36065573770491804,\n",
       " 0.36065573770491804,\n",
       " 0.36065573770491804,\n",
       " 0.33333333333333337,\n",
       " 0.33333333333333337,\n",
       " 0.33333333333333337,\n",
       " 0.33333333333333337,\n",
       " 0.33333333333333337,\n",
       " 0.33333333333333337,\n",
       " 0.33333333333333337,\n",
       " 0.33333333333333337,\n",
       " 0.33333333333333337,\n",
       " 0.3050847457627119,\n",
       " 0.3050847457627119,\n",
       " 0.3050847457627119,\n",
       " 0.3050847457627119,\n",
       " 0.3050847457627119,\n",
       " 0.3050847457627119,\n",
       " 0.3050847457627119,\n",
       " 0.3050847457627119,\n",
       " 0.3050847457627119,\n",
       " 0.3050847457627119,\n",
       " 0.3050847457627119,\n",
       " 0.2758620689655173,\n",
       " 0.2758620689655173,\n",
       " 0.2758620689655173,\n",
       " 0.2758620689655173,\n",
       " 0.2758620689655173,\n",
       " 0.2758620689655173,\n",
       " 0.2758620689655173,\n",
       " 0.2758620689655173,\n",
       " 0.2758620689655173,\n",
       " 0.2758620689655173,\n",
       " 0.2758620689655173,\n",
       " 0.2758620689655173,\n",
       " 0.2758620689655173,\n",
       " 0.24561403508771928,\n",
       " 0.24561403508771928,\n",
       " 0.24561403508771928,\n",
       " 0.21428571428571425,\n",
       " 0.21428571428571425,\n",
       " 0.21428571428571425,\n",
       " 0.21428571428571425,\n",
       " 0.21428571428571425,\n",
       " 0.18181818181818182,\n",
       " 0.11320754716981131]"
      ]
     },
     "execution_count": 51,
     "metadata": {},
     "output_type": "execute_result"
    }
   ],
   "source": [
    "scores"
   ]
  },
  {
   "cell_type": "code",
   "execution_count": 54,
   "metadata": {},
   "outputs": [
    {
     "name": "stdout",
     "output_type": "stream",
     "text": [
      "Threshold=0.251, F-measure=0.75556\n"
     ]
    }
   ],
   "source": [
    "ix = np.argmax(scores)\n",
    "print('Threshold=%.3f, F-measure=%.5f' % (thresholds[ix], scores[ix]))"
   ]
  },
  {
   "cell_type": "code",
   "execution_count": null,
   "metadata": {},
   "outputs": [],
   "source": []
  },
  {
   "cell_type": "markdown",
   "metadata": {},
   "source": [
    "# Probability Calibration"
   ]
  },
  {
   "cell_type": "raw",
   "metadata": {},
   "source": [
    "Many machine learning models are capable of predicting a probability or probability-like scores\n",
    "for class membership. Probabilities provide a required level of granularity for evaluating and\n",
    "comparing models, especially on imbalanced classification problems where tools like ROC\n",
    "Curves are used to interpret predictions and the ROC AUC metric is used to compare model\n",
    "performance, both of which use probabilities."
   ]
  },
  {
   "cell_type": "raw",
   "metadata": {},
   "source": [
    "Unfortunately, the probabilities or probability-like scores predicted by many models are not\n",
    "calibrated. This means that they may be over-confident in some cases and under-confident in\n",
    "other cases. Worse still, the severely skewed class distribution present in imbalanced classification\n",
    "tasks may result in even more bias in the predicted probabilities as they over-favor predicting\n",
    "the majority class."
   ]
  },
  {
   "cell_type": "raw",
   "metadata": {},
   "source": [
    "As such, it is often a good idea to calibrate the predicted probabilities for nonlinear machine\n",
    "learning models prior to evaluating their performance. Further, it is good practice to calibrate\n",
    "probabilities in general when working with imbalanced datasets, even of models like logistic\n",
    "regression that predict well-calibrated probabilities when the class labels are balanced."
   ]
  },
  {
   "cell_type": "markdown",
   "metadata": {},
   "source": [
    "# Decision Tree With Calibrated Probabilities"
   ]
  },
  {
   "cell_type": "raw",
   "metadata": {},
   "source": [
    "Decision trees are another highly effective machine learning algorithm that does not naturally\n",
    "produce probabilities. Instead, class labels are predicted directly and a probability-like score\n",
    "can be estimated based on the distribution of examples in the training dataset that fall into the\n",
    "leaf of the tree that is predicted for the new example. As such, the probability scores from a\n",
    "decision tree should be calibrated prior to being evaluated and used to select a model.\n",
    "We can define a decision tree using the DecisionTreeClassifier scikit-learn class. The\n",
    "model can be evaluated with uncalibrated probabilities on our synthetic imbalanced classification\n",
    "dataset."
   ]
  },
  {
   "cell_type": "code",
   "execution_count": 68,
   "metadata": {},
   "outputs": [],
   "source": [
    "from numpy import mean\n",
    "from sklearn.datasets import make_classification\n",
    "from sklearn.model_selection import cross_val_score\n",
    "from sklearn.model_selection import RepeatedStratifiedKFold\n",
    "from sklearn.tree import DecisionTreeClassifier"
   ]
  },
  {
   "cell_type": "code",
   "execution_count": 69,
   "metadata": {},
   "outputs": [],
   "source": [
    "X, y = make_classification(n_samples=10000, n_features=2, n_redundant=0,\n",
    "n_clusters_per_class=1, weights=[0.99], flip_y=0, random_state=4)\n",
    "# define model\n",
    "model = DecisionTreeClassifier()"
   ]
  },
  {
   "cell_type": "code",
   "execution_count": 70,
   "metadata": {},
   "outputs": [
    {
     "name": "stdout",
     "output_type": "stream",
     "text": [
      "Mean ROC AUC: 0.840\n"
     ]
    }
   ],
   "source": [
    "cv = RepeatedStratifiedKFold(n_splits=10, n_repeats=3, random_state=1)\n",
    "# evaluate model\n",
    "scores = cross_val_score(model, X, y, scoring='roc_auc', cv=cv, n_jobs=-1)\n",
    "# summarize performance\n",
    "print('Mean ROC AUC: %.3f' % mean(scores))"
   ]
  },
  {
   "cell_type": "code",
   "execution_count": null,
   "metadata": {},
   "outputs": [],
   "source": []
  },
  {
   "cell_type": "code",
   "execution_count": 71,
   "metadata": {},
   "outputs": [
    {
     "name": "stdout",
     "output_type": "stream",
     "text": [
      "Confusion Matrix :\n",
      "[[3287    9]\n",
      " [  13   25]]\n"
     ]
    }
   ],
   "source": [
    "from sklearn.model_selection import train_test_split\n",
    "x_train, x_test, y_train, y_test = train_test_split(X, y, test_size = 1/3, random_state = 0)\n",
    "model = DecisionTreeClassifier()\n",
    "model.fit(x_train,y_train)\n",
    "pr=model.predict(x_test)\n",
    "from sklearn.metrics import confusion_matrix \n",
    "results = confusion_matrix(y_test, pr) \n",
    "print ('Confusion Matrix :')\n",
    "print(results) "
   ]
  },
  {
   "cell_type": "code",
   "execution_count": null,
   "metadata": {},
   "outputs": [],
   "source": []
  },
  {
   "cell_type": "markdown",
   "metadata": {},
   "source": [
    "# example of evaluating the decision tree with calibrated probabilities for imbalanced classification"
   ]
  },
  {
   "cell_type": "code",
   "execution_count": 81,
   "metadata": {},
   "outputs": [],
   "source": [
    "from numpy import mean\n",
    "from sklearn.datasets import make_classification\n",
    "from sklearn.model_selection import cross_val_score\n",
    "from sklearn.model_selection import RepeatedStratifiedKFold\n",
    "from sklearn.calibration import CalibratedClassifierCV\n",
    "from sklearn.tree import DecisionTreeClassifier"
   ]
  },
  {
   "cell_type": "code",
   "execution_count": 82,
   "metadata": {},
   "outputs": [],
   "source": [
    "X, y = make_classification(n_samples=10000, n_features=2, n_redundant=0,\n",
    "n_clusters_per_class=1, weights=[0.99], flip_y=0, random_state=4)\n",
    "# define model\n",
    "model = DecisionTreeClassifier()"
   ]
  },
  {
   "cell_type": "code",
   "execution_count": 83,
   "metadata": {},
   "outputs": [],
   "source": [
    "calibrated = CalibratedClassifierCV(model, method='sigmoid', cv=3)"
   ]
  },
  {
   "cell_type": "code",
   "execution_count": 84,
   "metadata": {},
   "outputs": [
    {
     "name": "stdout",
     "output_type": "stream",
     "text": [
      "Mean ROC AUC: 0.857\n"
     ]
    }
   ],
   "source": [
    "cv = RepeatedStratifiedKFold(n_splits=10, n_repeats=3, random_state=1)\n",
    "# evaluate model\n",
    "scores = cross_val_score(calibrated, X, y, scoring='roc_auc', cv=cv, n_jobs=-1)\n",
    "# summarize performance\n",
    "print('Mean ROC AUC: %.3f' % mean(scores))"
   ]
  },
  {
   "cell_type": "code",
   "execution_count": null,
   "metadata": {},
   "outputs": [],
   "source": []
  },
  {
   "cell_type": "code",
   "execution_count": 85,
   "metadata": {},
   "outputs": [],
   "source": [
    "from sklearn.model_selection import train_test_split\n",
    "x_train, x_test, y_train, y_test = train_test_split(X, y, test_size = 1/3, random_state = 0)\n",
    "model = DecisionTreeClassifier()\n",
    "calibrated = CalibratedClassifierCV(model, method='sigmoid', cv=3)\n"
   ]
  },
  {
   "cell_type": "code",
   "execution_count": 86,
   "metadata": {},
   "outputs": [
    {
     "data": {
      "text/plain": [
       "CalibratedClassifierCV(base_estimator=DecisionTreeClassifier(), cv=3)"
      ]
     },
     "execution_count": 86,
     "metadata": {},
     "output_type": "execute_result"
    }
   ],
   "source": [
    "calibrated.fit(x_train,y_train)"
   ]
  },
  {
   "cell_type": "code",
   "execution_count": 87,
   "metadata": {},
   "outputs": [],
   "source": [
    "pr=calibrated.predict(x_test)"
   ]
  },
  {
   "cell_type": "code",
   "execution_count": 88,
   "metadata": {},
   "outputs": [
    {
     "name": "stdout",
     "output_type": "stream",
     "text": [
      "Confusion Matrix :\n",
      "[[3289    7]\n",
      " [  12   26]]\n"
     ]
    }
   ],
   "source": [
    "from sklearn.metrics import confusion_matrix \n",
    "results = confusion_matrix(y_test, pr) \n",
    "print ('Confusion Matrix :')\n",
    "print(results)"
   ]
  },
  {
   "cell_type": "code",
   "execution_count": null,
   "metadata": {},
   "outputs": [],
   "source": []
  },
  {
   "cell_type": "code",
   "execution_count": null,
   "metadata": {},
   "outputs": [],
   "source": []
  },
  {
   "cell_type": "code",
   "execution_count": null,
   "metadata": {},
   "outputs": [],
   "source": []
  },
  {
   "cell_type": "markdown",
   "metadata": {},
   "source": [
    "# Exapmle "
   ]
  },
  {
   "cell_type": "code",
   "execution_count": 15,
   "metadata": {},
   "outputs": [],
   "source": [
    "import pandas as pd"
   ]
  },
  {
   "cell_type": "code",
   "execution_count": 16,
   "metadata": {},
   "outputs": [],
   "source": [
    "data=pd.read_csv(\"E:\\data\\Imb\\imb.csv\")"
   ]
  },
  {
   "cell_type": "code",
   "execution_count": 17,
   "metadata": {},
   "outputs": [
    {
     "data": {
      "text/html": [
       "<div>\n",
       "<style scoped>\n",
       "    .dataframe tbody tr th:only-of-type {\n",
       "        vertical-align: middle;\n",
       "    }\n",
       "\n",
       "    .dataframe tbody tr th {\n",
       "        vertical-align: top;\n",
       "    }\n",
       "\n",
       "    .dataframe thead th {\n",
       "        text-align: right;\n",
       "    }\n",
       "</style>\n",
       "<table border=\"1\" class=\"dataframe\">\n",
       "  <thead>\n",
       "    <tr style=\"text-align: right;\">\n",
       "      <th></th>\n",
       "      <th>Feature 1</th>\n",
       "      <th>Feature 2</th>\n",
       "      <th>Target</th>\n",
       "    </tr>\n",
       "  </thead>\n",
       "  <tbody>\n",
       "    <tr>\n",
       "      <th>0</th>\n",
       "      <td>-0.553339</td>\n",
       "      <td>1.120375</td>\n",
       "      <td>0</td>\n",
       "    </tr>\n",
       "    <tr>\n",
       "      <th>1</th>\n",
       "      <td>-1.340687</td>\n",
       "      <td>1.497140</td>\n",
       "      <td>0</td>\n",
       "    </tr>\n",
       "    <tr>\n",
       "      <th>2</th>\n",
       "      <td>-0.732003</td>\n",
       "      <td>1.361169</td>\n",
       "      <td>0</td>\n",
       "    </tr>\n",
       "    <tr>\n",
       "      <th>3</th>\n",
       "      <td>-2.109361</td>\n",
       "      <td>0.995355</td>\n",
       "      <td>0</td>\n",
       "    </tr>\n",
       "    <tr>\n",
       "      <th>4</th>\n",
       "      <td>-1.220352</td>\n",
       "      <td>1.553905</td>\n",
       "      <td>0</td>\n",
       "    </tr>\n",
       "  </tbody>\n",
       "</table>\n",
       "</div>"
      ],
      "text/plain": [
       "   Feature 1  Feature 2  Target\n",
       "0  -0.553339   1.120375       0\n",
       "1  -1.340687   1.497140       0\n",
       "2  -0.732003   1.361169       0\n",
       "3  -2.109361   0.995355       0\n",
       "4  -1.220352   1.553905       0"
      ]
     },
     "execution_count": 17,
     "metadata": {},
     "output_type": "execute_result"
    }
   ],
   "source": [
    "data.head()"
   ]
  },
  {
   "cell_type": "code",
   "execution_count": 19,
   "metadata": {},
   "outputs": [],
   "source": [
    "x=data.iloc[:,:-1]"
   ]
  },
  {
   "cell_type": "code",
   "execution_count": 20,
   "metadata": {},
   "outputs": [],
   "source": [
    "y=data.iloc[:,-1]"
   ]
  },
  {
   "cell_type": "code",
   "execution_count": 21,
   "metadata": {},
   "outputs": [],
   "source": [
    "from sklearn.model_selection import train_test_split\n",
    "x_train, x_test, y_train, y_test = train_test_split(x, y, test_size = 1/3, random_state = 0)"
   ]
  },
  {
   "cell_type": "code",
   "execution_count": 23,
   "metadata": {},
   "outputs": [
    {
     "data": {
      "text/plain": [
       "LogisticRegression()"
      ]
     },
     "execution_count": 23,
     "metadata": {},
     "output_type": "execute_result"
    }
   ],
   "source": [
    "from sklearn.linear_model import LogisticRegression \n",
    "model = LogisticRegression()\n",
    "model.fit(x_train,y_train)\n"
   ]
  },
  {
   "cell_type": "code",
   "execution_count": 25,
   "metadata": {},
   "outputs": [],
   "source": [
    "predicted_classes_train = model.predict(x_train)"
   ]
  },
  {
   "cell_type": "code",
   "execution_count": 26,
   "metadata": {},
   "outputs": [
    {
     "name": "stdout",
     "output_type": "stream",
     "text": [
      "Confusion Matrix :\n",
      "[[6593    2]\n",
      " [  26   45]]\n"
     ]
    }
   ],
   "source": [
    "from sklearn.metrics import confusion_matrix \n",
    "results = confusion_matrix(y_train, predicted_classes_train) \n",
    "print ('Confusion Matrix :')\n",
    "print(results) \n"
   ]
  },
  {
   "cell_type": "code",
   "execution_count": 27,
   "metadata": {},
   "outputs": [],
   "source": [
    "predicted_classes_test = model.predict(x_test)"
   ]
  },
  {
   "cell_type": "code",
   "execution_count": 28,
   "metadata": {},
   "outputs": [
    {
     "name": "stdout",
     "output_type": "stream",
     "text": [
      "Confusion Matrix :\n",
      "[[3304    1]\n",
      " [  13   16]]\n"
     ]
    }
   ],
   "source": [
    "from sklearn.metrics import confusion_matrix \n",
    "results = confusion_matrix(y_test, predicted_classes_test) \n",
    "print ('Confusion Matrix :')\n",
    "print(results) \n"
   ]
  },
  {
   "cell_type": "code",
   "execution_count": 33,
   "metadata": {},
   "outputs": [
    {
     "data": {
      "text/plain": [
       "LogisticRegression(class_weight={0: 1, 1: 100})"
      ]
     },
     "execution_count": 33,
     "metadata": {},
     "output_type": "execute_result"
    }
   ],
   "source": [
    "weights = {0:1, 1:100}\n",
    "model = LogisticRegression(solver='lbfgs', class_weight=weights)\n",
    "model.fit(x_train,y_train)"
   ]
  },
  {
   "cell_type": "code",
   "execution_count": 34,
   "metadata": {},
   "outputs": [
    {
     "name": "stdout",
     "output_type": "stream",
     "text": [
      "Confusion Matrix :\n",
      "[[6259  336]\n",
      " [   2   69]]\n"
     ]
    }
   ],
   "source": [
    "predicted_classes_train = model.predict(x_train)\n",
    "from sklearn.metrics import confusion_matrix \n",
    "results = confusion_matrix(y_train, predicted_classes_train) \n",
    "print ('Confusion Matrix :')\n",
    "print(results) \n"
   ]
  },
  {
   "cell_type": "code",
   "execution_count": 35,
   "metadata": {},
   "outputs": [
    {
     "name": "stdout",
     "output_type": "stream",
     "text": [
      "Confusion Matrix :\n",
      "[[3138  167]\n",
      " [   4   25]]\n"
     ]
    }
   ],
   "source": [
    "predicted_classes_test = model.predict(x_test)\n",
    "from sklearn.metrics import confusion_matrix \n",
    "results = confusion_matrix(y_test, predicted_classes_test) \n",
    "print ('Confusion Matrix :')\n",
    "print(results) \n"
   ]
  },
  {
   "cell_type": "code",
   "execution_count": null,
   "metadata": {},
   "outputs": [],
   "source": []
  }
 ],
 "metadata": {
  "kernelspec": {
   "display_name": "Python 3 (ipykernel)",
   "language": "python",
   "name": "python3"
  },
  "language_info": {
   "codemirror_mode": {
    "name": "ipython",
    "version": 3
   },
   "file_extension": ".py",
   "mimetype": "text/x-python",
   "name": "python",
   "nbconvert_exporter": "python",
   "pygments_lexer": "ipython3",
   "version": "3.7.3"
  }
 },
 "nbformat": 4,
 "nbformat_minor": 2
}
